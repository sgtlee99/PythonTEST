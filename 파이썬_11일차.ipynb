{
  "nbformat": 4,
  "nbformat_minor": 0,
  "metadata": {
    "colab": {
      "provenance": [],
      "authorship_tag": "ABX9TyPACq5d3XgQeIAsGofygrKx",
      "include_colab_link": true
    },
    "kernelspec": {
      "name": "python3",
      "display_name": "Python 3"
    },
    "language_info": {
      "name": "python"
    }
  },
  "cells": [
    {
      "cell_type": "markdown",
      "metadata": {
        "id": "view-in-github",
        "colab_type": "text"
      },
      "source": [
        "<a href=\"https://colab.research.google.com/github/sgtlee99/PythonTEST/blob/main/%ED%8C%8C%EC%9D%B4%EC%8D%AC_11%EC%9D%BC%EC%B0%A8.ipynb\" target=\"_parent\"><img src=\"https://colab.research.google.com/assets/colab-badge.svg\" alt=\"Open In Colab\"/></a>"
      ]
    },
    {
      "cell_type": "code",
      "execution_count": 4,
      "metadata": {
        "colab": {
          "base_uri": "https://localhost:8080/"
        },
        "id": "Qu8W8PZk8DTI",
        "outputId": "18f33d0a-b347-4bdf-c442-e868869c898a"
      },
      "outputs": [
        {
          "output_type": "stream",
          "name": "stdout",
          "text": [
            "도시\n",
            "서울    9904312\n",
            "부산    3448737\n",
            "인천    2890451\n",
            "대구    2466052\n",
            "Name: 인구, dtype: int64 \n",
            "\n",
            "대구 인구 =  2466052\n",
            "0    10\n",
            "1    11\n",
            "2    12\n",
            "3    13\n",
            "dtype: int64\n"
          ]
        }
      ],
      "source": [
        "#시리즈 클래스\n",
        "import pandas as pd\n",
        "s1 = pd.Series([9904312, 3448737, 2890451, 2466052],\n",
        "               index=[\"서울\", \"부산\",\"인천\",\"대구\"])\n",
        "\n",
        "s1.name = \"인구\"\n",
        "s1.index.name = \"도시\"\n",
        "\n",
        "print(s1, \"\\n\")\n",
        "print(\"대구 인구 = \", s1.대구)\n",
        "s2 = pd.Series(range(10, 14))\n",
        "\n",
        "print(s2)"
      ]
    },
    {
      "cell_type": "code",
      "source": [
        "#시리즈 연산\n",
        "import pandas as pd\n",
        "\n",
        "s1 = pd.Series(range(3))\n",
        "s2 = pd.Series(range(3,6))\n",
        "print(s1 + s2)\n",
        "print(s1 / 10)"
      ],
      "metadata": {
        "colab": {
          "base_uri": "https://localhost:8080/"
        },
        "id": "bdU7SlKh9vJ0",
        "outputId": "0c1a76ee-8410-4467-bd8d-62936f75695c"
      },
      "execution_count": 5,
      "outputs": [
        {
          "output_type": "stream",
          "name": "stdout",
          "text": [
            "0    3\n",
            "1    5\n",
            "2    7\n",
            "dtype: int64\n",
            "0    0.0\n",
            "1    0.1\n",
            "2    0.2\n",
            "dtype: float64\n"
          ]
        }
      ]
    },
    {
      "cell_type": "code",
      "source": [
        "#시리즈 인덱싱\n",
        "#(시리즈 데이터는 넘파이 배열)\n",
        "import pandas as pd\n",
        "print(\"=========인덱싱==========\\n\")\n",
        "s = pd.Series([9904312, 3448737, 2890451, 2466052],\n",
        "               index=[\"서울\", \"부산\",\"인천\",\"대구\"])\n",
        "\n",
        "print(s[3], s[\"대구\"])\n",
        "print(s[[0,3]], \"\\n\",s[[\"서울\", \"대구\"]])\n",
        "print(s[(250e4 < s) & (s < 500e4)])\n",
        "#시리즈 슬라이싱\n",
        "\n",
        "print(\"\\n=========슬라이싱=========\\n\")\n",
        "print(s[1:3])\n",
        "print(s[\"부산\" : \"대구\"])"
      ],
      "metadata": {
        "colab": {
          "base_uri": "https://localhost:8080/"
        },
        "id": "drzJ4D_-9-bV",
        "outputId": "cb3b2579-ea53-4cd7-e1a2-32bde38087c2"
      },
      "execution_count": 9,
      "outputs": [
        {
          "output_type": "stream",
          "name": "stdout",
          "text": [
            "=========인덱싱==========\n",
            "\n",
            "2466052 2466052\n",
            "서울    9904312\n",
            "대구    2466052\n",
            "dtype: int64 \n",
            " 서울    9904312\n",
            "대구    2466052\n",
            "dtype: int64\n",
            "부산    3448737\n",
            "인천    2890451\n",
            "dtype: int64\n",
            "\n",
            "=========슬라이싱=========\n",
            "\n",
            "부산    3448737\n",
            "인천    2890451\n",
            "dtype: int64\n",
            "부산    3448737\n",
            "인천    2890451\n",
            "대구    2466052\n",
            "dtype: int64\n"
          ]
        }
      ]
    },
    {
      "cell_type": "code",
      "source": [
        "#시리즈와 딕셔너리 자료형\n",
        "import pandas as pd\n",
        "\n",
        "s = pd.Series({\"서울\" : 9631482, \"부산\" : 3393191, \"인천\" : 2632035, \"대전\" : 1490158},\n",
        "              index=[\"부산\",\"서울\", \"인천\", \"대전\"])\n",
        "\n",
        "for k, v in s.items():\n",
        "  print(\"%s = %d\" % (k,v))"
      ],
      "metadata": {
        "colab": {
          "base_uri": "https://localhost:8080/"
        },
        "id": "lt13iyY2-DZh",
        "outputId": "6ff5f7d9-2591-4668-d206-e056563284c1"
      },
      "execution_count": 10,
      "outputs": [
        {
          "output_type": "stream",
          "name": "stdout",
          "text": [
            "부산 = 3393191\n",
            "서울 = 9631482\n",
            "인천 = 2632035\n",
            "대전 = 1490158\n"
          ]
        }
      ]
    },
    {
      "cell_type": "code",
      "source": [
        "#데이터 프레임 클래스\n",
        "#데이터 프레임 생성\n",
        "\n",
        "import pandas as pd\n",
        "data = {\n",
        "\"2015\": [9904312, 3448737, 2890451, 2466052],\n",
        "\"2010\": [9631482, 3393191, 2632035, 2431774],\n",
        "\"2005\": [9762546, 3512547, 2517680, 2456016],\n",
        "\"2000\": [9853972, 3655437, 2466338, 2473990],\n",
        "\"지역\":[\"수도권\", \"경상권\", \"수도권\", \"경상권\"],\n",
        "\"2010-2015 증가율\": [0.0283, 0.0163, 0.0982, 0.0141]\n",
        "}\n",
        "\n",
        "index = [\"서울\", \"부산\", \"인천\", \"대구\"]\n",
        "columns= [\"지역\", \"2015\", \"2010\", \"2005\", \"2000\", \"2010-2015 증가율\"]\n",
        "df = pd.DataFrame(data, index=index, columns=columns)\n",
        "print(df)\n",
        "print(\"\\n=========데이터프레임_속성=========\\n\")\n",
        "print(df.values)\n",
        "print(df.columns)\n",
        "print(df.index)\n",
        "df.index.name, df.columns.name = \"도시\", \"특성\"\n",
        "print(df)\n",
        "print(\"\\n======데이터프레임_속성(df.T)=======\\n\")\n",
        "df = pd.DataFrame(data,index=index, columns=columns)\n",
        "print(df.T)"
      ],
      "metadata": {
        "colab": {
          "base_uri": "https://localhost:8080/"
        },
        "id": "tjFFip2o-Ajh",
        "outputId": "d0749dd7-c648-4ebb-d12d-7861f0bdafb0"
      },
      "execution_count": 17,
      "outputs": [
        {
          "output_type": "stream",
          "name": "stdout",
          "text": [
            "     지역     2015     2010     2005     2000  2010-2015 증가율\n",
            "서울  수도권  9904312  9631482  9762546  9853972         0.0283\n",
            "부산  경상권  3448737  3393191  3512547  3655437         0.0163\n",
            "인천  수도권  2890451  2632035  2517680  2466338         0.0982\n",
            "대구  경상권  2466052  2431774  2456016  2473990         0.0141\n",
            "\n",
            "=========데이터프레임_속성=========\n",
            "\n",
            "[['수도권' 9904312 9631482 9762546 9853972 0.0283]\n",
            " ['경상권' 3448737 3393191 3512547 3655437 0.0163]\n",
            " ['수도권' 2890451 2632035 2517680 2466338 0.0982]\n",
            " ['경상권' 2466052 2431774 2456016 2473990 0.0141]]\n",
            "Index(['지역', '2015', '2010', '2005', '2000', '2010-2015 증가율'], dtype='object')\n",
            "Index(['서울', '부산', '인천', '대구'], dtype='object')\n",
            "특성   지역     2015     2010     2005     2000  2010-2015 증가율\n",
            "도시                                                        \n",
            "서울  수도권  9904312  9631482  9762546  9853972         0.0283\n",
            "부산  경상권  3448737  3393191  3512547  3655437         0.0163\n",
            "인천  수도권  2890451  2632035  2517680  2466338         0.0982\n",
            "대구  경상권  2466052  2431774  2456016  2473990         0.0141\n",
            "\n",
            "======데이터프레임_속성(df.T)=======\n",
            "\n",
            "                    서울       부산       인천       대구\n",
            "지역                 수도권      경상권      수도권      경상권\n",
            "2015           9904312  3448737  2890451  2466052\n",
            "2010           9631482  3393191  2632035  2431774\n",
            "2005           9762546  3512547  2517680  2456016\n",
            "2000           9853972  3655437  2466338  2473990\n",
            "2010-2015 증가율   0.0283   0.0163   0.0982   0.0141\n"
          ]
        }
      ]
    },
    {
      "cell_type": "code",
      "source": [
        "#데이터프레임 슬라이싱\n",
        "import pandas as pd\n",
        "data = {\n",
        "\"2015\": [9904312, 3448737, 2890451, 2466052],\n",
        "\"2010\": [9631482, 3393191, 2632035, 2431774],\n",
        "\"2005\": [9762546, 3512547, 2517680, 2456016],\n",
        "\"2000\": [9853972, 3655437, 2466338, 2473990],\n",
        "\"지역\":[\"수도권\", \"경상권\", \"수도권\", \"경상권\"],\n",
        "\"2010-2015 증가율\": [0.0283, 0.0163, 0.0982, 0.0141]\n",
        "}\n",
        "\n",
        "index = [\"서울\", \"부산\", \"인천\", \"대구\"]\n",
        "columns= [\"지역\", \"2015\", \"2010\", \"2005\", \"2000\", \"2010-2015 증가율\"]\n",
        "df = pd.DataFrame(data, index=index, columns=columns)\n",
        "\n",
        "print(df[1:3])\n",
        "print(\"---------------------------------------------------------------\")\n",
        "print(df[\"서울\":\"부산\"])\n",
        "print(\"---------------------------------------------------------------\")\n",
        "print(df[\"2015\"][\"서울\"],df[\"2015\"][0])"
      ],
      "metadata": {
        "colab": {
          "base_uri": "https://localhost:8080/"
        },
        "id": "iiAkXcgtC9hF",
        "outputId": "8b277131-b308-4a24-b367-ddee28bf4b86"
      },
      "execution_count": 21,
      "outputs": [
        {
          "output_type": "stream",
          "name": "stdout",
          "text": [
            "     지역     2015     2010     2005     2000  2010-2015 증가율\n",
            "부산  경상권  3448737  3393191  3512547  3655437         0.0163\n",
            "인천  수도권  2890451  2632035  2517680  2466338         0.0982\n",
            "---------------------------------------------------------------\n",
            "     지역     2015     2010     2005     2000  2010-2015 증가율\n",
            "서울  수도권  9904312  9631482  9762546  9853972         0.0283\n",
            "부산  경상권  3448737  3393191  3512547  3655437         0.0163\n",
            "---------------------------------------------------------------\n",
            "9904312 9904312\n"
          ]
        }
      ]
    },
    {
      "cell_type": "code",
      "source": [
        "#데이터프레임 고급 인덱싱 : loc인덱서\n",
        "import numpy as np\n",
        "import pandas as pd\n",
        "df = pd.DataFrame(np.arange(10, 22).reshape(3,4),\n",
        "                  index=[\"r1\", \"r2\",\"r3\"],\n",
        "                  columns=[\"A\",\"B\",\"C\",\"D\"])\n",
        "\n",
        "print(df)\n",
        "print(\"-------------------\")\n",
        "print(df.loc[\"r2\"])           #r2 행의 데이터를 시리즈로 반환\n",
        "print(\"-------------------\")\n",
        "print(df.loc[\"r2\":\"r3\"])      #r2~r3행의 데이터를 데이터 프레임으로 반환"
      ],
      "metadata": {
        "colab": {
          "base_uri": "https://localhost:8080/"
        },
        "id": "X1VJ00stDlL7",
        "outputId": "046f6926-4a3d-4b69-f274-b2b24f00e4d3"
      },
      "execution_count": 25,
      "outputs": [
        {
          "output_type": "stream",
          "name": "stdout",
          "text": [
            "     A   B   C   D\n",
            "r1  10  11  12  13\n",
            "r2  14  15  16  17\n",
            "r3  18  19  20  21\n",
            "-------------------\n",
            "A    14\n",
            "B    15\n",
            "C    16\n",
            "D    17\n",
            "Name: r2, dtype: int64\n",
            "-------------------\n",
            "     A   B   C   D\n",
            "r2  14  15  16  17\n",
            "r3  18  19  20  21\n"
          ]
        }
      ]
    },
    {
      "cell_type": "code",
      "source": [
        "#데이터프레임 고급 인덱싱 : loc인덱서\n",
        "import numpy as np\n",
        "import pandas as pd\n",
        "df = pd.DataFrame(np.arange(10, 22).reshape(3,4),\n",
        "                  index=[\"r1\", \"r2\",\"r3\"],\n",
        "                  columns=[\"A\",\"B\",\"C\",\"D\"])\n",
        "\n",
        "print(df.loc[:,:])\n",
        "print(\"-------------------\")\n",
        "print(df.loc[\"r2\":\"r3\",\"B\"])\n",
        "print(\"-------------------\")\n",
        "print(df.loc[\"r2\":\"r3\",\"B\":\"C\"])\n",
        "print(\"-------------------\")\n",
        "print(df.loc[\"r2\",\"B\":\"C\"])\n",
        "print(\"-------------------\")\n",
        "print(df.loc[\"r2\",\"B\"])\n",
        "print(\"-------------------\")\n"
      ],
      "metadata": {
        "colab": {
          "base_uri": "https://localhost:8080/"
        },
        "id": "8Xz8kfPbEbe0",
        "outputId": "bf721455-1422-4612-c929-ff3b09e2da7e"
      },
      "execution_count": 29,
      "outputs": [
        {
          "output_type": "stream",
          "name": "stdout",
          "text": [
            "     A   B   C   D\n",
            "r1  10  11  12  13\n",
            "r2  14  15  16  17\n",
            "r3  18  19  20  21\n",
            "-------------------\n",
            "r2    15\n",
            "r3    19\n",
            "Name: B, dtype: int64\n",
            "-------------------\n",
            "     B   C\n",
            "r2  15  16\n",
            "r3  19  20\n",
            "-------------------\n",
            "B    15\n",
            "C    16\n",
            "Name: r2, dtype: int64\n",
            "-------------------\n",
            "15\n",
            "-------------------\n"
          ]
        }
      ]
    },
    {
      "cell_type": "code",
      "source": [
        "#데이터프레임 고급 인덱싱 : iloc인덱서\n",
        "import numpy as np\n",
        "import pandas as pd\n",
        "df = pd.DataFrame(np.arange(10, 22).reshape(3,4),\n",
        "                  index=[\"r1\", \"r2\",\"r3\"],\n",
        "                  columns=[\"A\",\"B\",\"C\",\"D\"])\n",
        "\n",
        "print(df.iloc[:,:])\n",
        "print(\"-------------------\")\n",
        "print(df.iloc[1:3, 1])\n",
        "print(\"-------------------\")\n",
        "print(df.iloc[1:3, 1:3])\n",
        "print(\"-------------------\")\n",
        "print(df.iloc[1, 1:3])\n",
        "print(\"-------------------\")\n",
        "print(df.iloc[1, 1])\n",
        "print(\"-------------------\")"
      ],
      "metadata": {
        "colab": {
          "base_uri": "https://localhost:8080/"
        },
        "id": "BU6SDlWmMiDw",
        "outputId": "6cde38ef-f2c5-40ef-ed67-61eadb19be32"
      },
      "execution_count": 30,
      "outputs": [
        {
          "output_type": "stream",
          "name": "stdout",
          "text": [
            "     A   B   C   D\n",
            "r1  10  11  12  13\n",
            "r2  14  15  16  17\n",
            "r3  18  19  20  21\n",
            "-------------------\n",
            "r2    15\n",
            "r3    19\n",
            "Name: B, dtype: int64\n",
            "-------------------\n",
            "     B   C\n",
            "r2  15  16\n",
            "r3  19  20\n",
            "-------------------\n",
            "B    15\n",
            "C    16\n",
            "Name: r2, dtype: int64\n",
            "-------------------\n",
            "15\n",
            "-------------------\n"
          ]
        }
      ]
    },
    {
      "cell_type": "code",
      "source": [
        "#데이터 프레임 열(시리즈) 갱신, 추가, 삭제\n",
        "import pandas as pd\n",
        "data = {\n",
        "\"2015\": [9904312, 3448737, 2890451, 2466052],\n",
        "\"2010\": [9631482, 3393191, 2632035, 2431774],\n",
        "\"2005\": [9762546, 3512547, 2517680, 2456016],\n",
        "\"2000\": [9853972, 3655437, 2466338, 2473990],\n",
        "\"지역\":[\"수도권\", \"경상권\", \"수도권\", \"경상권\"],\n",
        "\"2010-2015 증가율\": [0.0283, 0.0163, 0.0982, 0.0141]\n",
        "}\n",
        "\n",
        "index = [\"서울\", \"부산\", \"인천\", \"대구\"]\n",
        "columns= [\"지역\", \"2015\", \"2010\", \"2005\", \"2000\", \"2010-2015 증가율\"]\n",
        "df = pd.DataFrame(data, index=index, columns=columns)\n",
        "\n",
        "df[\"2010-2015 증가율\"] = df[\"2010-2015 증가율\"] * 100\n",
        "df[ \"2005-2010 증가율\"] = ((df[\"2010\"] - df[\"2005\"]) / df[\"2005\"] * 100).round(2)\n",
        "\n",
        "print(df)"
      ],
      "metadata": {
        "colab": {
          "base_uri": "https://localhost:8080/"
        },
        "id": "37VOA-XeM8an",
        "outputId": "d2227512-3066-455e-fd3c-f3c16ca790fb"
      },
      "execution_count": 31,
      "outputs": [
        {
          "output_type": "stream",
          "name": "stdout",
          "text": [
            "     지역     2015     2010     2005     2000  2010-2015 증가율  2005-2010 증가율\n",
            "서울  수도권  9904312  9631482  9762546  9853972           2.83          -1.34\n",
            "부산  경상권  3448737  3393191  3512547  3655437           1.63          -3.40\n",
            "인천  수도권  2890451  2632035  2517680  2466338           9.82           4.54\n",
            "대구  경상권  2466052  2431774  2456016  2473990           1.41          -0.99\n"
          ]
        }
      ]
    },
    {
      "cell_type": "code",
      "source": [
        "#판다스로 csv파일 일기\n",
        "import pandas as pd\n",
        "\n",
        "df = pd.read_csv(\"weather.csv\")\n",
        "print(df)\n",
        "print(\"-------------------------------------\")\n",
        "df = pd.read_csv(\"weather.csv\", index_col=0)\n",
        "print(df)\n",
        "print(\"-------------------------------------\")\n",
        "df = pd.read_csv(\"weather.csv\" , names=[\"일시\", \"평균기온\",\"최대풍속\",\"평균풍속\"], index_col = \"일시\")\n",
        "print(df)\n",
        "print(\"-----------간편분석메소드df.head()----------\")\n",
        "print(df.head())\n",
        "print(\"-----------간편분석메소드df.tail()-----------\")\n",
        "print(df.tail())\n",
        "print(\"-----------간편분석메소드df.describe()-------\")\n",
        "print(df.describe())\n",
        "#판다스 통계 기본 메소드\n",
        "df1 = pd.read_csv(\"weather.csv\", encoding=\"utf8\")\n",
        "print(\"-------------------------------------\")\n",
        "print(df1.count())\n",
        "print(\"-------------------------------------\")\n",
        "print(df1.mean())\n",
        "print(\"-------------------------------------\")\n",
        "print(df1[\"평균기온\"].mean())\n",
        "print(\"-------------------------------------\")\n",
        "print(df1.loc[df1[\"평균풍속\"]>=4, \"평균기온\"].mean())"
      ],
      "metadata": {
        "colab": {
          "base_uri": "https://localhost:8080/"
        },
        "id": "OdNF9AFmNnZf",
        "outputId": "a25a5ddf-3c5e-4955-e278-ad04d16cda80"
      },
      "execution_count": 42,
      "outputs": [
        {
          "output_type": "stream",
          "name": "stdout",
          "text": [
            "              일시  평균기온  최대풍속  평균풍속\n",
            "0     2010-08-01  28.7   8.3   3.4\n",
            "1     2010-08-02  25.2   8.7   3.8\n",
            "2     2010-08-03  22.1   6.3   2.9\n",
            "3     2010-08-04  25.3   6.6   4.2\n",
            "4     2010-08-05  27.2   9.1   5.6\n",
            "...          ...   ...   ...   ...\n",
            "3648  2020-07-27  22.1   4.2   1.7\n",
            "3649  2020-07-28  21.9   4.5   1.6\n",
            "3650  2020-07-29  21.6   3.2   1.0\n",
            "3651  2020-07-30  22.9   9.7   2.4\n",
            "3652  2020-07-31  25.7   4.8   2.5\n",
            "\n",
            "[3653 rows x 4 columns]\n",
            "-------------------------------------\n",
            "            평균기온  최대풍속  평균풍속\n",
            "일시                          \n",
            "2010-08-01  28.7   8.3   3.4\n",
            "2010-08-02  25.2   8.7   3.8\n",
            "2010-08-03  22.1   6.3   2.9\n",
            "2010-08-04  25.3   6.6   4.2\n",
            "2010-08-05  27.2   9.1   5.6\n",
            "...          ...   ...   ...\n",
            "2020-07-27  22.1   4.2   1.7\n",
            "2020-07-28  21.9   4.5   1.6\n",
            "2020-07-29  21.6   3.2   1.0\n",
            "2020-07-30  22.9   9.7   2.4\n",
            "2020-07-31  25.7   4.8   2.5\n",
            "\n",
            "[3653 rows x 3 columns]\n",
            "-------------------------------------\n",
            "            평균기온  최대풍속  평균풍속\n",
            "일시                          \n",
            "일시          평균기온  최대풍속  평균풍속\n",
            "2010-08-01  28.7   8.3   3.4\n",
            "2010-08-02  25.2   8.7   3.8\n",
            "2010-08-03  22.1   6.3   2.9\n",
            "2010-08-04  25.3   6.6   4.2\n",
            "...          ...   ...   ...\n",
            "2020-07-27  22.1   4.2   1.7\n",
            "2020-07-28  21.9   4.5   1.6\n",
            "2020-07-29  21.6   3.2   1.0\n",
            "2020-07-30  22.9   9.7   2.4\n",
            "2020-07-31  25.7   4.8   2.5\n",
            "\n",
            "[3654 rows x 3 columns]\n",
            "-----------간편분석메소드df.head()----------\n",
            "            평균기온  최대풍속  평균풍속\n",
            "일시                          \n",
            "일시          평균기온  최대풍속  평균풍속\n",
            "2010-08-01  28.7   8.3   3.4\n",
            "2010-08-02  25.2   8.7   3.8\n",
            "2010-08-03  22.1   6.3   2.9\n",
            "2010-08-04  25.3   6.6   4.2\n",
            "-----------간편분석메소드df.tail()-----------\n",
            "            평균기온 최대풍속 평균풍속\n",
            "일시                        \n",
            "2020-07-27  22.1  4.2  1.7\n",
            "2020-07-28  21.9  4.5  1.6\n",
            "2020-07-29  21.6  3.2  1.0\n",
            "2020-07-30  22.9  9.7  2.4\n",
            "2020-07-31  25.7  4.8  2.5\n",
            "-----------간편분석메소드df.describe()-------\n",
            "        평균기온  최대풍속  평균풍속\n",
            "count   3654  3650  3648\n",
            "unique   358   171   121\n",
            "top     20.6   6.2   2.8\n",
            "freq      27    59   102\n",
            "-------------------------------------\n",
            "일시      3653\n",
            "평균기온    3653\n",
            "최대풍속    3649\n",
            "평균풍속    3647\n",
            "dtype: int64\n",
            "-------------------------------------\n",
            "평균기온    12.942102\n",
            "최대풍속     7.911099\n",
            "평균풍속     3.936441\n",
            "dtype: float64\n",
            "-------------------------------------\n",
            "12.942102381604162\n",
            "-------------------------------------\n",
            "12.30135922330097\n"
          ]
        },
        {
          "output_type": "stream",
          "name": "stderr",
          "text": [
            "/usr/local/lib/python3.7/dist-packages/ipykernel_launcher.py:23: FutureWarning: Dropping of nuisance columns in DataFrame reductions (with 'numeric_only=None') is deprecated; in a future version this will raise TypeError.  Select only valid columns before calling the reduction.\n"
          ]
        }
      ]
    },
    {
      "cell_type": "code",
      "source": [
        "#실습. 판다스로 csv 데이터 분석\n",
        "import pandas as pd\n",
        "import matplotlib.pyplot as plt\n",
        "import datetime as dt\n",
        "\n",
        "weather = pd.read_csv(\"weather.csv\")\n",
        "\n",
        "monthly = [0 for x in range(12)]\n",
        "monthly_wind = [0 for x in range(12)]\n",
        "\n",
        "weather[\"month\"] = pd.DatetimeIndex(weather[\"일시\"]).month\n",
        "\n",
        "for i in range(12) :\n",
        "  monthly[i] = weather[weather[\"month\"] == i + 1] \n",
        "  monthly_wind[i] = monthly[i].mean()[\"평균풍속\"]\n",
        "\n",
        "plt.plot(monthly_wind, \"red\")\n",
        "plt.show()"
      ],
      "metadata": {
        "colab": {
          "base_uri": "https://localhost:8080/",
          "height": 321
        },
        "id": "cEBfWKirOn2V",
        "outputId": "73bb5601-bc91-4a90-c813-1b77c093bf5e"
      },
      "execution_count": 43,
      "outputs": [
        {
          "output_type": "stream",
          "name": "stderr",
          "text": [
            "/usr/local/lib/python3.7/dist-packages/ipykernel_launcher.py:15: FutureWarning: Dropping of nuisance columns in DataFrame reductions (with 'numeric_only=None') is deprecated; in a future version this will raise TypeError.  Select only valid columns before calling the reduction.\n",
            "  from ipykernel import kernelapp as app\n"
          ]
        },
        {
          "output_type": "display_data",
          "data": {
            "text/plain": [
              "<Figure size 432x288 with 1 Axes>"
            ],
            "image/png": "[encoded data removed]"
          },
          "metadata": {
            "needs_background": "light"
          }
        }
      ]
    }
  ]
}