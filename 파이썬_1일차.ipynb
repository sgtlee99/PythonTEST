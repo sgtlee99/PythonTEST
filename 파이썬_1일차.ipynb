{
  "cells": [
    {
      "cell_type": "markdown",
      "metadata": {
        "id": "view-in-github",
        "colab_type": "text"
      },
      "source": [
        "<a href=\"https://colab.research.google.com/github/sgtlee99/PythonTEST/blob/main/%ED%8C%8C%EC%9D%B4%EC%8D%AC_1%EC%9D%BC%EC%B0%A8.ipynb\" target=\"_parent\"><img src=\"https://colab.research.google.com/assets/colab-badge.svg\" alt=\"Open In Colab\"/></a>"
      ]
    },
    {
      "cell_type": "code",
      "execution_count": null,
      "id": "94dbe179-0fc5-4f44-8c58-165faf62c099",
      "metadata": {
        "pycharm": {
          "name": "#%%\n"
        },
        "id": "94dbe179-0fc5-4f44-8c58-165faf62c099",
        "outputId": "587e7bd6-e26d-47b9-e95f-147d26baad4c",
        "colab": {
          "base_uri": "https://localhost:8080/"
        }
      },
      "outputs": [
        {
          "output_type": "stream",
          "name": "stdout",
          "text": [
            "plz input float num : 12\n",
            "2\n",
            "12.0\n"
          ]
        }
      ],
      "source": [
        "#일의자리수, 소수 첫째자리 수 (실습)\n",
        "a = float(input(\"plz input float num : \"))\n",
        "print(int(a%10))\n",
        "print(\"%.1f\" % a)\n"
      ]
    },
    {
      "cell_type": "code",
      "execution_count": null,
      "id": "1ca94684-41c1-4c12-b240-55212b5cac19",
      "metadata": {
        "pycharm": {
          "name": "#%%\n"
        },
        "id": "1ca94684-41c1-4c12-b240-55212b5cac19",
        "outputId": "9446b054-d819-4380-8d0d-2e5d6521edab",
        "colab": {
          "base_uri": "https://localhost:8080/"
        }
      },
      "outputs": [
        {
          "output_type": "stream",
          "name": "stdout",
          "text": [
            "정수를 입력하시오 : 3\n",
            "정수를 입력하시오 : 5\n",
            "산술평균 :  4.0\n",
            "기하평균 :  3.872983346207417\n",
            "조화평균 :  3.75\n"
          ]
        }
      ],
      "source": [
        "#산술, 기하, 조화 평균 (실습)\n",
        "\n",
        "a = int(input(\"정수를 입력하시오 : \"))\n",
        "b = int(input(\"정수를 입력하시오 : \"))\n",
        "#산술평균 arithmetic\n",
        "arith = (a+b)/2\n",
        "#기하평균 geometric\n",
        "geo =(a*b)**0.5\n",
        "#조화평균 harmonic\n",
        "har = (2*a*b)/(a+b)\n",
        "\n",
        "print(\"산술평균 : \" , arith)\n",
        "print(\"기하평균 : \" , geo)\n",
        "print(\"조화평균 : \" , har)\n"
      ]
    },
    {
      "cell_type": "code",
      "execution_count": null,
      "id": "ff37775b-d268-4818-a602-5c211ecb98da",
      "metadata": {
        "pycharm": {
          "name": "#%%\n"
        },
        "id": "ff37775b-d268-4818-a602-5c211ecb98da",
        "outputId": "cc24f337-e080-4842-e1c2-bffe9daafed7"
      },
      "outputs": [
        {
          "name": "stdin",
          "output_type": "stream",
          "text": [
            "이차 방정식 계수 입력 : (3개) 1 -2 1\n"
          ]
        },
        {
          "name": "stdout",
          "output_type": "stream",
          "text": [
            "1 -2 1\n",
            "3.0\n",
            "1.0\n",
            "3 , 1 : 두 실근 \n"
          ]
        }
      ],
      "source": [
        "#이차 방정식의 근\n",
        "#import math\n",
        "a, b, c = map(int, input(\"이차 방정식 계수 입력 : (3개)\").split())\n",
        "print(a,b,c)\n",
        "\n",
        "x1 = -b + ((b**2)-(4*a*c)**(1/2)) / 2*a\n",
        "x2 = -b - ((b**2)-(4*a*c)**(1/2)) / 2*a\n",
        "\n",
        "print(x1)\n",
        "print(x2)\n",
        "\n",
        "if x1 == x2 :\n",
        "    print(\"%d : 중근 \" % x1)\n",
        "elif x1 != x2 :\n",
        "    print(\"%d , %d : 두 실근 \" %(x1,x2))\n",
        "else :\n",
        "    print(\"근이 없음\")"
      ]
    },
    {
      "cell_type": "code",
      "execution_count": null,
      "id": "c428b573-e2cc-442f-825a-61be01bf24a4",
      "metadata": {
        "pycharm": {
          "name": "#%%\n"
        },
        "id": "c428b573-e2cc-442f-825a-61be01bf24a4",
        "outputId": "e22c2c95-2735-4e7e-eb48-eacc0d95cdb9"
      },
      "outputs": [
        {
          "name": "stdin",
          "output_type": "stream",
          "text": [
            "정수를 입력하세요 : (1~100)  50\n"
          ]
        },
        {
          "name": "stdout",
          "output_type": "stream",
          "text": [
            "high\n"
          ]
        },
        {
          "name": "stdin",
          "output_type": "stream",
          "text": [
            "정수를 입력하세요 : (1~100)  75\n"
          ]
        },
        {
          "name": "stdout",
          "output_type": "stream",
          "text": [
            "high\n"
          ]
        },
        {
          "name": "stdin",
          "output_type": "stream",
          "text": [
            "정수를 입력하세요 : (1~100)  81\n"
          ]
        },
        {
          "name": "stdout",
          "output_type": "stream",
          "text": [
            "high\n"
          ]
        },
        {
          "name": "stdin",
          "output_type": "stream",
          "text": [
            "정수를 입력하세요 : (1~100)  85\n"
          ]
        },
        {
          "name": "stdout",
          "output_type": "stream",
          "text": [
            "low\n"
          ]
        },
        {
          "name": "stdin",
          "output_type": "stream",
          "text": [
            "정수를 입력하세요 : (1~100)  83\n"
          ]
        },
        {
          "name": "stdout",
          "output_type": "stream",
          "text": [
            "high\n"
          ]
        },
        {
          "name": "stdin",
          "output_type": "stream",
          "text": [
            "정수를 입력하세요 : (1~100)  84\n"
          ]
        },
        {
          "name": "stdout",
          "output_type": "stream",
          "text": [
            "good\n",
            "the end\n"
          ]
        }
      ],
      "source": [
        "#숫자 맞추기 게임\n",
        "import random\n",
        "a = random.randrange(1,100)\n",
        "i = 0\n",
        "while i < 100 :\n",
        "    b = int(input(\"정수를 입력하세요 : (1~100) \"))\n",
        "    if a == b :\n",
        "        print(\"good\")\n",
        "        break\n",
        "    elif a > b :\n",
        "            print(\"high\")\n",
        "    elif b > a :\n",
        "            print(\"low\")    \n",
        "\n",
        "            \n",
        "print(\"the end\")"
      ]
    },
    {
      "cell_type": "code",
      "execution_count": null,
      "id": "a98207d7-ec77-44bb-b964-ee1a77e045d9",
      "metadata": {
        "pycharm": {
          "name": "#%%\n"
        },
        "id": "a98207d7-ec77-44bb-b964-ee1a77e045d9",
        "outputId": "9d8537f8-ea14-42ec-fec2-3d9438168748"
      },
      "outputs": [
        {
          "name": "stdout",
          "output_type": "stream",
          "text": [
            "원주율의 값 : 3.141573 \n"
          ]
        }
      ],
      "source": [
        "#calculate the pi (실습)\n",
        "pi = 0\n",
        "flag = False\n",
        "\n",
        "for i in range(1, 100000, 2) :\n",
        "    if flag == False :\n",
        "        pi += 4 / i\n",
        "        flag =True\n",
        "    elif flag == True :\n",
        "        pi -= 4 / i\n",
        "        flag = False\n",
        "\n",
        "print(\"원주율의 값 : %f \" % pi)"
      ]
    },
    {
      "cell_type": "code",
      "execution_count": null,
      "id": "8030ed28-cfce-4b5b-a047-39c0317dd514",
      "metadata": {
        "pycharm": {
          "name": "#%%\n"
        },
        "id": "8030ed28-cfce-4b5b-a047-39c0317dd514"
      },
      "outputs": [],
      "source": [
        "#최대공약수 (유클리드 호제법)\n",
        "a = int(input(\"정수 x 를 압력하시오 :(큰수) \"))\n",
        "b = int(input(\"정수 y 를 입력하시오 :(작은수) \"))\n",
        "\n",
        "while b > 0 :\n",
        "    a, b = b, a % b\n",
        "    \n",
        "print(\"%d\"%a)\n",
        "\n",
        "    "
      ]
    },
    {
      "cell_type": "code",
      "execution_count": null,
      "id": "4133695a-bb2f-4ddc-8d2f-dced6a5d3c28",
      "metadata": {
        "pycharm": {
          "name": "#%%\n"
        },
        "id": "4133695a-bb2f-4ddc-8d2f-dced6a5d3c28"
      },
      "outputs": [],
      "source": [
        "#몬테카를로 : 원주율 계산\n",
        "import random\n",
        "n = 100000\n",
        "count = 0\n",
        "for i in range(n) :\n",
        "    x = random.random() * 2 - 1\n",
        "    y = random.random() * 2 - 1\n",
        "    \n",
        "    if ((x**2) + (y**2)) <= 1 :\n",
        "        count += 1\n",
        "    \n",
        "pi = 4 * (count/n)\n",
        "\n",
        "print(pi)"
      ]
    },
    {
      "cell_type": "code",
      "execution_count": null,
      "id": "e598a3b9-819b-46c1-a2a8-bbacbe0ff012",
      "metadata": {
        "pycharm": {
          "name": "#%%\n"
        },
        "id": "e598a3b9-819b-46c1-a2a8-bbacbe0ff012",
        "outputId": "64e36ab1-1f65-42cf-e1ef-c484b8795964"
      },
      "outputs": [
        {
          "name": "stdout",
          "output_type": "stream",
          "text": [
            "1\n"
          ]
        }
      ],
      "source": [
        "d = 2\n",
        "n = 1000\n",
        "print(sum([int(d) for d in str(n)]))"
      ]
    },
    {
      "cell_type": "code",
      "execution_count": null,
      "id": "e2c7eb57-a55c-4282-9543-bc4853fad117",
      "metadata": {
        "pycharm": {
          "name": "#%%\n"
        },
        "id": "e2c7eb57-a55c-4282-9543-bc4853fad117"
      },
      "outputs": [],
      "source": [
        "#Power digit sum\n",
        "a = 2**15\n",
        "count = 0\n",
        "while i in "
      ]
    },
    {
      "cell_type": "markdown",
      "source": [
        "2학기수업\n"
      ],
      "metadata": {
        "id": "hoGZvUPKi5zX"
      },
      "id": "hoGZvUPKi5zX"
    },
    {
      "cell_type": "code",
      "source": [
        "#실습. 초를 시/분/초 로 환산\n",
        "n = int(input('초 입력 : '))\n",
        "h = n // (60*60)\n",
        "m =  (n- h*60*60) // 60\n",
        "s = n % 60\n",
        "print(h, \":\", m , \":\", s)"
      ],
      "metadata": {
        "colab": {
          "base_uri": "https://localhost:8080/"
        },
        "id": "DcyGzCkbcK3a",
        "outputId": "052cd07d-58e7-4281-99d4-0d5e50cf9ae7"
      },
      "id": "DcyGzCkbcK3a",
      "execution_count": null,
      "outputs": [
        {
          "output_type": "stream",
          "name": "stdout",
          "text": [
            "초 입력 : 123456789\n",
            "34293 : 33 : 9\n"
          ]
        }
      ]
    },
    {
      "cell_type": "code",
      "source": [
        "#실습. 일의자리수, 소수 첫째 자리 수\n",
        "f = float(input(\"실수 입력 : \"))\n",
        "print(\"일의 자리수 = \", int(f)%10)\n",
        "print(\"소수 첫째 자리수 = \", int(f*10)%10)"
      ],
      "metadata": {
        "colab": {
          "base_uri": "https://localhost:8080/"
        },
        "id": "Mfz2pu38hkCv",
        "outputId": "3b2010ca-8fcb-40fa-9095-01ce4530e82b"
      },
      "id": "Mfz2pu38hkCv",
      "execution_count": null,
      "outputs": [
        {
          "output_type": "stream",
          "name": "stdout",
          "text": [
            "실수 입력 : 13.57\n",
            "일의 자리수 =  3\n",
            "소수 첫째 자리수 =  5\n"
          ]
        }
      ]
    },
    {
      "cell_type": "code",
      "source": [
        "#실습. 피타고라스 정리\n",
        "a = float(input(\"직각삼각형 밑변의 길이 입력 : \"))\n",
        "b = float(input(\"직각삼각형 높이 입력 : \"))\n",
        "c = (a**2 + b**2) ** 0.5\n",
        "print(\"빗변의 길이 = \", c)"
      ],
      "metadata": {
        "colab": {
          "base_uri": "https://localhost:8080/"
        },
        "id": "07r86BmkiHHv",
        "outputId": "d678abce-f3e1-4b6a-8565-165cc6a8ed84"
      },
      "id": "07r86BmkiHHv",
      "execution_count": null,
      "outputs": [
        {
          "output_type": "stream",
          "name": "stdout",
          "text": [
            "직각삼각형 밑변의 길이 입력 : 3\n",
            "직각삼각형 높이 입력 : 4\n",
            "빗변의 길이 =  5.0\n"
          ]
        }
      ]
    },
    {
      "cell_type": "code",
      "source": [
        "#실습. 자동판매기 시뮬레이션\n",
        "price = int(input(\"물건값 : \"))\n",
        "money = int(input(\"투입금액 : \"))\n",
        "\n",
        "change = money - price\n",
        "\n",
        "print(\"거스름돈 : \", change)\n",
        "coin500s = change // 500\n",
        "change = change % 500\n",
        "coin100s = change // 100\n",
        "\n",
        "print(\"\\n-------거스름돈-------\")\n",
        "print(\"500원 동전의 개수 : \", coin500s)\n",
        "print(\"100원 동전의 개수 : \", coin100s)"
      ],
      "metadata": {
        "colab": {
          "base_uri": "https://localhost:8080/"
        },
        "id": "-QpvMLX6isd_",
        "outputId": "864a68d8-5711-4073-b2a8-950a8be47cfb"
      },
      "id": "-QpvMLX6isd_",
      "execution_count": null,
      "outputs": [
        {
          "output_type": "stream",
          "name": "stdout",
          "text": [
            "물건값 : 8900\n",
            "투입금액 : 10000\n",
            "거스름돈 :  1100\n",
            "\n",
            "-------거스름돈-------\n",
            "500원 동전의 개수 :  2\n",
            "100원 동전의 개수 :  1\n"
          ]
        }
      ]
    },
    {
      "cell_type": "code",
      "source": [
        "#실습. 세 정수의 평균 구하기\n",
        "x = int(input(\"첫 번째 수 입력 : \"))\n",
        "y = int(input(\"두 번째 수 입력 : \"))\n",
        "z = int(input(\"세 번째 수 입력 : \"))\n",
        "\n",
        "avg = (x + y + z) / 3\n",
        "print(\"평균 = \", avg)\n",
        "print(\"평균 = %.1f\" % avg)\n"
      ],
      "metadata": {
        "colab": {
          "base_uri": "https://localhost:8080/"
        },
        "id": "i78jk1lnkU7z",
        "outputId": "ad5222f1-c2ef-4464-bb51-b6b97ae35499"
      },
      "id": "i78jk1lnkU7z",
      "execution_count": null,
      "outputs": [
        {
          "output_type": "stream",
          "name": "stdout",
          "text": [
            "첫 번째 수 입력 : 3\n",
            "두 번째 수 입력 : 5\n",
            "세 번째 수 입력 : 9\n",
            "평균 =  5.666666666666667\n",
            "평균 = 5.7\n"
          ]
        }
      ]
    },
    {
      "cell_type": "code",
      "source": [
        "#실습. 여러 데이터 입력 단축 표현\n",
        "x,y,z = map(int , input(\"세 정수 입력 : \").split())\n",
        "print(\"x = %d, y = %d, z = %d\" %(x,y,z))"
      ],
      "metadata": {
        "colab": {
          "base_uri": "https://localhost:8080/"
        },
        "id": "IqpuHUe0lE-Y",
        "outputId": "f4eb6321-42e6-46ea-ca00-4d8765c3e897"
      },
      "id": "IqpuHUe0lE-Y",
      "execution_count": null,
      "outputs": [
        {
          "output_type": "stream",
          "name": "stdout",
          "text": [
            "세 정수 입력 : 10 20 30\n",
            "x = 10, y = 20, z = 30\n"
          ]
        }
      ]
    },
    {
      "cell_type": "code",
      "source": [
        "#실습. 산술평균, 기하형균, 조화평균\n",
        "import math\n",
        "a,b = map(int , input(\"두 정수 입력 : \").split())\n",
        "print(\"산술 평균 = \", (a+b)/2)\n",
        "print(\"기하 평균 = \", math.sqrt(a*b))\n",
        "print(\"조화 평균 = \", (2*a*b)/(a+b))"
      ],
      "metadata": {
        "colab": {
          "base_uri": "https://localhost:8080/"
        },
        "id": "kBnSOBmqltbH",
        "outputId": "788c30b3-a426-46a2-e753-e60a29c43223"
      },
      "id": "kBnSOBmqltbH",
      "execution_count": null,
      "outputs": [
        {
          "output_type": "stream",
          "name": "stdout",
          "text": [
            "두 정수 입력 : 2 3\n",
            "산술 평균 =  2.5\n",
            "기하 평균 =  2.449489742783178\n",
            "조화 평균 =  2.4\n"
          ]
        }
      ]
    }
  ],
  "metadata": {
    "kernelspec": {
      "display_name": "Python 3 (ipykernel)",
      "language": "python",
      "name": "python3"
    },
    "language_info": {
      "codemirror_mode": {
        "name": "ipython",
        "version": 3
      },
      "file_extension": ".py",
      "mimetype": "text/x-python",
      "name": "python",
      "nbconvert_exporter": "python",
      "pygments_lexer": "ipython3",
      "version": "3.10.1"
    },
    "colab": {
      "provenance": [],
      "collapsed_sections": [],
      "include_colab_link": true
    }
  },
  "nbformat": 4,
  "nbformat_minor": 5
}