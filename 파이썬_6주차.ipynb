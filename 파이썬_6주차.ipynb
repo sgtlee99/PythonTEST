{
  "nbformat": 4,
  "nbformat_minor": 0,
  "metadata": {
    "colab": {
      "provenance": [],
      "collapsed_sections": [],
      "authorship_tag": "ABX9TyP/rOyHrBfZ0BbuAM/LZ8KI",
      "include_colab_link": true
    },
    "kernelspec": {
      "name": "python3",
      "display_name": "Python 3"
    },
    "language_info": {
      "name": "python"
    }
  },
  "cells": [
    {
      "cell_type": "markdown",
      "metadata": {
        "id": "view-in-github",
        "colab_type": "text"
      },
      "source": [
        "<a href=\"https://colab.research.google.com/github/sgtlee99/PythonTEST/blob/main/%ED%8C%8C%EC%9D%B4%EC%8D%AC_6%EC%A3%BC%EC%B0%A8.ipynb\" target=\"_parent\"><img src=\"https://colab.research.google.com/assets/colab-badge.svg\" alt=\"Open In Colab\"/></a>"
      ]
    },
    {
      "cell_type": "code",
      "execution_count": 26,
      "metadata": {
        "colab": {
          "base_uri": "https://localhost:8080/"
        },
        "id": "ENQ40UrLowDD",
        "outputId": "952389a9-9a86-48c9-940f-04fc8c1be305"
      },
      "outputs": [
        {
          "output_type": "stream",
          "name": "stdout",
          "text": [
            "True 11 10\n",
            "True 9 15\n"
          ]
        }
      ],
      "source": [
        "#실습. TV클래스 모델링\n",
        "class Tv:\n",
        "  def __init__(self, on, ch, vol):\n",
        "    self.on = on\n",
        "    self.channel = ch\n",
        "    self.volume = vol\n",
        "  def print(self):\n",
        "      print(self.on, self.channel, self.volume)\n",
        "  def turnOn(self):\n",
        "    self.on = True\n",
        "  def turnOff(self):\n",
        "    self.on = False\n",
        "  def changeChannel(self, ch):\n",
        "    self.channel = ch\n",
        "  def changeVolume(self, vol):\n",
        "    self.volume = vol\n",
        "\n",
        "t1 = Tv(False, 11, 10)\n",
        "t1.turnOn()\n",
        "t1.print()\n",
        "\n",
        "t2 = Tv(False, 0, 0)\n",
        "t2.turnOn()\n",
        "t2.changeChannel(9)\n",
        "t2.changeVolume(15)\n",
        "t2.print()\n"
      ]
    },
    {
      "cell_type": "code",
      "source": [
        "#실습. 원의 넓이와 둘레길이\n",
        "class Circle:\n",
        "  def __init__(self, r) :\n",
        "    self.radius = r\n",
        "  def area(self) :\n",
        "    return 3.14*self.radius**2\n",
        "  def perimeter(self) :\n",
        "    return 2*3.14*self.radius\n",
        "  \n",
        "radius = float(input(\"반지름의 길이 입력 : \"))\n",
        "c1 = Circle(radius)\n",
        "print(\"원의 넓이 = \", c1.area())\n",
        "print(\"원의 둘레길이 = \", c1.perimeter())"
      ],
      "metadata": {
        "colab": {
          "base_uri": "https://localhost:8080/"
        },
        "id": "Psg_9oyjowus",
        "outputId": "87cc141d-4191-4003-fcba-6ec4b7649ff7"
      },
      "execution_count": 10,
      "outputs": [
        {
          "output_type": "stream",
          "name": "stdout",
          "text": [
            "반지름의 길이 입력 : 10\n",
            "원의 넓이 =  314.0\n",
            "원의 둘레길이 =  62.800000000000004\n"
          ]
        }
      ]
    },
    {
      "cell_type": "code",
      "source": [
        "#실습. 자동차 클래스와 객체\n",
        "class Car:\n",
        "  def __init__(self, m, c, s):\n",
        "    self.model = m\n",
        "    self.color = c\n",
        "    self.speed = s\n",
        "  def speedUp(self):\n",
        "    self.speed += 10\n",
        "  def speedDown(self):\n",
        "    self.speed -= 10\n",
        "  def __str__(self):\n",
        "    return f\"Car[model = {self.model} : Color = {self.color} : Speed = {self.speed} ]\"\n",
        "  \n",
        "c = Car(\"BMW\", \"Black\", 100)\n",
        "c.speedDown()\n",
        "print(c)"
      ],
      "metadata": {
        "colab": {
          "base_uri": "https://localhost:8080/"
        },
        "id": "LIAz7L_GytDj",
        "outputId": "bf0261bd-d5b1-4396-e869-7e251c19db48"
      },
      "execution_count": 21,
      "outputs": [
        {
          "output_type": "stream",
          "name": "stdout",
          "text": [
            "Car[model = BMW : Color = Black : Speed = 90 ]\n"
          ]
        }
      ]
    },
    {
      "cell_type": "code",
      "source": [
        "#실습. 분수 클래스 작성\n",
        "class Fraction:\n",
        "  def __init__(self, ja, mo) :\n",
        "    self.ja = ja; self.mo = mo\n",
        "  def __str__(self) :\n",
        "    return \"%d / %d \" % (self.ja, self.mo)\n",
        "  def __add__(self, fr):\n",
        "    return Fraction(self.ja * fr.mo + fr.ja * self.mo , self.mo * fr.mo)\n",
        "  def __mul__(self, fr) :\n",
        "    return Fraction(self.ja * fr.ja, self.mo * fr.mo)\n",
        "\n",
        "f1 = Fraction(1,2)\n",
        "f2 = Fraction(2,3)\n",
        "print(f1 + f2)\n",
        "print(f1 * f2)"
      ],
      "metadata": {
        "colab": {
          "base_uri": "https://localhost:8080/"
        },
        "id": "EMYwDzFv6cWs",
        "outputId": "a77a1f53-79c4-462a-97c6-ce0c6baf4135"
      },
      "execution_count": 25,
      "outputs": [
        {
          "output_type": "stream",
          "name": "stdout",
          "text": [
            "7 / 6 \n",
            "2 / 6 \n"
          ]
        }
      ]
    },
    {
      "cell_type": "code",
      "source": [
        "#정적 메소드\n",
        "class Fraction:\n",
        "  def __init__(self, ja, mo) :\n",
        "    self.ja = ja; self.mo = mo\n",
        "  def __str__(self) :\n",
        "    return \"%d / %d \" % (self.ja, self.mo)\n",
        "\n",
        "  @staticmethod\n",
        "  def mul1(f1, f2) :\n",
        "    return Fraction(f1.ja * f2.ja, f1.mo * f2.mo)\n",
        "\n",
        "f1 = Fraction(1,2)\n",
        "f2 = Fraction(2,3)\n",
        "print(Fraction.mul1(f1,f2))"
      ],
      "metadata": {
        "colab": {
          "base_uri": "https://localhost:8080/"
        },
        "id": "qmaaCWXBA4Nh",
        "outputId": "3fe1e396-6bab-467b-afd2-f25bd52eee33"
      },
      "execution_count": 27,
      "outputs": [
        {
          "output_type": "stream",
          "name": "stdout",
          "text": [
            "2 / 6 \n"
          ]
        }
      ]
    }
  ]
}