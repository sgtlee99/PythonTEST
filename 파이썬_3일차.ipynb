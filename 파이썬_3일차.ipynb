{
  "nbformat": 4,
  "nbformat_minor": 0,
  "metadata": {
    "colab": {
      "provenance": [],
      "collapsed_sections": [],
      "authorship_tag": "ABX9TyOfav6/UNqsREeavv6cmB+7",
      "include_colab_link": true
    },
    "kernelspec": {
      "name": "python3",
      "display_name": "Python 3"
    },
    "language_info": {
      "name": "python"
    }
  },
  "cells": [
    {
      "cell_type": "markdown",
      "metadata": {
        "id": "view-in-github",
        "colab_type": "text"
      },
      "source": [
        "<a href=\"https://colab.research.google.com/github/sgtlee99/PythonTEST/blob/main/%ED%8C%8C%EC%9D%B4%EC%8D%AC_3%EC%9D%BC%EC%B0%A8.ipynb\" target=\"_parent\"><img src=\"https://colab.research.google.com/assets/colab-badge.svg\" alt=\"Open In Colab\"/></a>"
      ]
    },
    {
      "cell_type": "code",
      "execution_count": 1,
      "metadata": {
        "id": "0ZrTatkWcrPe",
        "colab": {
          "base_uri": "https://localhost:8080/"
        },
        "outputId": "52a34725-afe7-41f5-f009-e9bb26058544"
      },
      "outputs": [
        {
          "output_type": "stream",
          "name": "stdout",
          "text": [
            "1부터 100 사이의 숫자를 맞추시오\n",
            "숫자 입력 : 50\n",
            "up\n",
            "숫자 입력 : 75\n",
            "up\n",
            "숫자 입력 : 85\n",
            "up\n",
            "숫자 입력 : 95\n",
            "down\n",
            "숫자 입력 : 90\n",
            "down\n",
            "숫자 입력 : 88\n",
            "down\n",
            "숫자 입력 : 86\n",
            "★good★\n",
            "총 시도 횟수 =  7\n"
          ]
        }
      ],
      "source": [
        "#실습. 숫자 맞추기 게임\n",
        "import random\n",
        "\n",
        "tries = 0\n",
        "guess = 0\n",
        "answer = random.randint(1, 100)\n",
        "print(\"1부터 100 사이의 숫자를 맞추시오\")\n",
        "\n",
        "while guess != answer :\n",
        "  guess = int(input(\"숫자 입력 : \"))\n",
        "  tries = tries + 1\n",
        "  if guess < answer :\n",
        "    print(\"up\")\n",
        "  elif guess > answer :\n",
        "    print(\"down\")\n",
        "\n",
        "print(\"★good★\")\n",
        "print(\"총 시도 횟수 = \", tries)"
      ]
    },
    {
      "cell_type": "code",
      "source": [
        "#실습. 최대 공약수(유클리드 호제법)\n",
        "x, y = map(int, input(\"두  정수 입력 : \").split())\n",
        "a, b = x, y\n",
        "\n",
        "while y != 0 :\n",
        "  r = x % y\n",
        "  x = y\n",
        "  y = r\n",
        "\n",
        "print(\"%d와 %d의 최대 공약수 = %d \" %(a,b,x))\n",
        "print(\"%d와 %d의 최소 공배수 = %d \" %(a,b,a*b/x))"
      ],
      "metadata": {
        "id": "sThC0fPuf61k",
        "colab": {
          "base_uri": "https://localhost:8080/"
        },
        "outputId": "ea217e24-c81d-4a59-e8f3-70b70bee934f"
      },
      "execution_count": 3,
      "outputs": [
        {
          "output_type": "stream",
          "name": "stdout",
          "text": [
            "두  정수 입력 : 36 24\n",
            "36와 24의 최대 공약수 = 12 \n",
            "36와 24의 최소 공배수 = 72 \n"
          ]
        }
      ]
    },
    {
      "cell_type": "code",
      "source": [
        "#실습. 구구단 출력\n",
        "for i in range(2, 10) : \n",
        "  for j in range(1, 10) :\n",
        "    print(\"%d * %d = %2d  \" % (i,j,i*j), end=' ')\n",
        "  print()"
      ],
      "metadata": {
        "colab": {
          "base_uri": "https://localhost:8080/"
        },
        "id": "iFqSVvcJhHjs",
        "outputId": "0ccb5cdd-c8ee-4700-9da2-d317363c0a87"
      },
      "execution_count": 4,
      "outputs": [
        {
          "output_type": "stream",
          "name": "stdout",
          "text": [
            "2 * 1 =  2   2 * 2 =  4   2 * 3 =  6   2 * 4 =  8   2 * 5 = 10   2 * 6 = 12   2 * 7 = 14   2 * 8 = 16   2 * 9 = 18   \n",
            "3 * 1 =  3   3 * 2 =  6   3 * 3 =  9   3 * 4 = 12   3 * 5 = 15   3 * 6 = 18   3 * 7 = 21   3 * 8 = 24   3 * 9 = 27   \n",
            "4 * 1 =  4   4 * 2 =  8   4 * 3 = 12   4 * 4 = 16   4 * 5 = 20   4 * 6 = 24   4 * 7 = 28   4 * 8 = 32   4 * 9 = 36   \n",
            "5 * 1 =  5   5 * 2 = 10   5 * 3 = 15   5 * 4 = 20   5 * 5 = 25   5 * 6 = 30   5 * 7 = 35   5 * 8 = 40   5 * 9 = 45   \n",
            "6 * 1 =  6   6 * 2 = 12   6 * 3 = 18   6 * 4 = 24   6 * 5 = 30   6 * 6 = 36   6 * 7 = 42   6 * 8 = 48   6 * 9 = 54   \n",
            "7 * 1 =  7   7 * 2 = 14   7 * 3 = 21   7 * 4 = 28   7 * 5 = 35   7 * 6 = 42   7 * 7 = 49   7 * 8 = 56   7 * 9 = 63   \n",
            "8 * 1 =  8   8 * 2 = 16   8 * 3 = 24   8 * 4 = 32   8 * 5 = 40   8 * 6 = 48   8 * 7 = 56   8 * 8 = 64   8 * 9 = 72   \n",
            "9 * 1 =  9   9 * 2 = 18   9 * 3 = 27   9 * 4 = 36   9 * 5 = 45   9 * 6 = 54   9 * 7 = 63   9 * 8 = 72   9 * 9 = 81   \n"
          ]
        }
      ]
    },
    {
      "cell_type": "code",
      "source": [
        "#추가실습 : 각 단이 세로로 출력되도록 변경\n",
        "for i in range(2, 10) : \n",
        "  for j in range(1, 10) :\n",
        "    print(\"%d * %d = %2d  \" % (j,i,i*j), end=' ')\n",
        "  print()"
      ],
      "metadata": {
        "colab": {
          "base_uri": "https://localhost:8080/"
        },
        "id": "44lHCExXhWqM",
        "outputId": "ad6bf9ee-1065-4f3a-c0b4-82e6b2556fc3"
      },
      "execution_count": 9,
      "outputs": [
        {
          "output_type": "stream",
          "name": "stdout",
          "text": [
            "1 * 2 =  2   2 * 2 =  4   3 * 2 =  6   4 * 2 =  8   5 * 2 = 10   6 * 2 = 12   7 * 2 = 14   8 * 2 = 16   9 * 2 = 18   \n",
            "1 * 3 =  3   2 * 3 =  6   3 * 3 =  9   4 * 3 = 12   5 * 3 = 15   6 * 3 = 18   7 * 3 = 21   8 * 3 = 24   9 * 3 = 27   \n",
            "1 * 4 =  4   2 * 4 =  8   3 * 4 = 12   4 * 4 = 16   5 * 4 = 20   6 * 4 = 24   7 * 4 = 28   8 * 4 = 32   9 * 4 = 36   \n",
            "1 * 5 =  5   2 * 5 = 10   3 * 5 = 15   4 * 5 = 20   5 * 5 = 25   6 * 5 = 30   7 * 5 = 35   8 * 5 = 40   9 * 5 = 45   \n",
            "1 * 6 =  6   2 * 6 = 12   3 * 6 = 18   4 * 6 = 24   5 * 6 = 30   6 * 6 = 36   7 * 6 = 42   8 * 6 = 48   9 * 6 = 54   \n",
            "1 * 7 =  7   2 * 7 = 14   3 * 7 = 21   4 * 7 = 28   5 * 7 = 35   6 * 7 = 42   7 * 7 = 49   8 * 7 = 56   9 * 7 = 63   \n",
            "1 * 8 =  8   2 * 8 = 16   3 * 8 = 24   4 * 8 = 32   5 * 8 = 40   6 * 8 = 48   7 * 8 = 56   8 * 8 = 64   9 * 8 = 72   \n",
            "1 * 9 =  9   2 * 9 = 18   3 * 9 = 27   4 * 9 = 36   5 * 9 = 45   6 * 9 = 54   7 * 9 = 63   8 * 9 = 72   9 * 9 = 81   \n"
          ]
        }
      ]
    },
    {
      "cell_type": "code",
      "source": [
        "#실습. 2차원 좌표 출력\n",
        "x = int(input(\"x 좌표 크기 입력 : \"))\n",
        "y = int(input(\"y 좌표 크기 입력 : \"))\n",
        "for i in range(1,x+1) : \n",
        "  for j in range(1, y+1):\n",
        "    print(\"(%2d, %2d) \" %(i,j), end =' ')\n",
        "  print()\n",
        "  "
      ],
      "metadata": {
        "colab": {
          "base_uri": "https://localhost:8080/"
        },
        "id": "KxLvcxQ6hahG",
        "outputId": "9824afbd-db9e-45b6-e917-a238b597afff"
      },
      "execution_count": 5,
      "outputs": [
        {
          "output_type": "stream",
          "name": "stdout",
          "text": [
            "x 좌표 크기 입력 : 5\n",
            "y 좌표 크기 입력 : 10\n",
            "( 1,  1)  ( 1,  2)  ( 1,  3)  ( 1,  4)  ( 1,  5)  ( 1,  6)  ( 1,  7)  ( 1,  8)  ( 1,  9)  ( 1, 10)  \n",
            "( 2,  1)  ( 2,  2)  ( 2,  3)  ( 2,  4)  ( 2,  5)  ( 2,  6)  ( 2,  7)  ( 2,  8)  ( 2,  9)  ( 2, 10)  \n",
            "( 3,  1)  ( 3,  2)  ( 3,  3)  ( 3,  4)  ( 3,  5)  ( 3,  6)  ( 3,  7)  ( 3,  8)  ( 3,  9)  ( 3, 10)  \n",
            "( 4,  1)  ( 4,  2)  ( 4,  3)  ( 4,  4)  ( 4,  5)  ( 4,  6)  ( 4,  7)  ( 4,  8)  ( 4,  9)  ( 4, 10)  \n",
            "( 5,  1)  ( 5,  2)  ( 5,  3)  ( 5,  4)  ( 5,  5)  ( 5,  6)  ( 5,  7)  ( 5,  8)  ( 5,  9)  ( 5, 10)  \n"
          ]
        }
      ]
    },
    {
      "cell_type": "code",
      "source": [
        "#추가실습 : break문 -> 반복문을 벗어날 때 이용\n",
        "st = \"Hello Pyhon\"\n",
        "for ch in st :\n",
        "  if ch in ['a','e','i','o','u','A','E','I','O','U']:\n",
        "    continue\n",
        "  print(ch, end='')"
      ],
      "metadata": {
        "colab": {
          "base_uri": "https://localhost:8080/"
        },
        "id": "eM_zNs5nheDb",
        "outputId": "a83f71f8-ad12-4b75-b310-d741a22668d1"
      },
      "execution_count": 8,
      "outputs": [
        {
          "output_type": "stream",
          "name": "stdout",
          "text": [
            "Hll Pyhn"
          ]
        }
      ]
    },
    {
      "cell_type": "code",
      "source": [
        "#실습. 소수출력\n",
        "def isPrime(n):\n",
        "  if n == 1 : return False \n",
        "  for i in range(2,n):\n",
        "    if n%i == 0: return False \n",
        "  return True\n",
        "\n",
        "cnt = 0\n",
        "for i in range(1,1000):\n",
        "  if isPrime(i) == True:\n",
        "    print(\"%3d  \" % i, end=\" \")\n",
        "    cnt = cnt+1\n",
        "    if cnt%10 == 0 : print()\n"
      ],
      "metadata": {
        "colab": {
          "base_uri": "https://localhost:8080/"
        },
        "id": "OItqfzUsklw4",
        "outputId": "8760119d-d42c-43da-afab-720158f85bcd"
      },
      "execution_count": 11,
      "outputs": [
        {
          "output_type": "stream",
          "name": "stdout",
          "text": [
            "  2     3     5     7    11    13    17    19    23    29   \n",
            " 31    37    41    43    47    53    59    61    67    71   \n",
            " 73    79    83    89    97   101   103   107   109   113   \n",
            "127   131   137   139   149   151   157   163   167   173   \n",
            "179   181   191   193   197   199   211   223   227   229   \n",
            "233   239   241   251   257   263   269   271   277   281   \n",
            "283   293   307   311   313   317   331   337   347   349   \n",
            "353   359   367   373   379   383   389   397   401   409   \n",
            "419   421   431   433   439   443   449   457   461   463   \n",
            "467   479   487   491   499   503   509   521   523   541   \n",
            "547   557   563   569   571   577   587   593   599   601   \n",
            "607   613   617   619   631   641   643   647   653   659   \n",
            "661   673   677   683   691   701   709   719   727   733   \n",
            "739   743   751   757   761   769   773   787   797   809   \n",
            "811   821   823   827   829   839   853   857   859   863   \n",
            "877   881   883   887   907   911   919   929   937   941   \n",
            "947   953   967   971   977   983   991   997   "
          ]
        }
      ]
    },
    {
      "cell_type": "code",
      "source": [
        "#실습. 오일러 수 계산\n",
        "def fact(n) :\n",
        "  if (n<=1) : return 1\n",
        "  return fact(n-1) * n\n",
        "\n",
        "e = 0\n",
        "for i in range(30):\n",
        "  e += 1/fact(i)\n",
        "print(\"오일러수 e = \", e)"
      ],
      "metadata": {
        "colab": {
          "base_uri": "https://localhost:8080/"
        },
        "id": "BKbl5vzYkmIc",
        "outputId": "433eb763-6623-43bc-a5b3-3f2cffae48b4"
      },
      "execution_count": 12,
      "outputs": [
        {
          "output_type": "stream",
          "name": "stdout",
          "text": [
            "오일러수 e =  2.7182818284590455\n"
          ]
        }
      ]
    },
    {
      "cell_type": "code",
      "source": [
        "#실습. 여러인자, 여러 반환값\n",
        "def calc(n1, n2) : \n",
        "  return n1+n2, n1-n2, n1*n2, n1/n2\n",
        "\n",
        "n1, n2 = 20,10\n",
        "t1,t2,t3,t4 = calc(n1,n2)\n",
        "print(n1, '+', n2, '=', t1)\n",
        "print(n1, '-', n2, '=', t2)\n",
        "print(n1, '*', n2, '=', t3)\n",
        "print(n1, '/', n2, '=', t4)"
      ],
      "metadata": {
        "colab": {
          "base_uri": "https://localhost:8080/"
        },
        "id": "x1YV5yTMsheq",
        "outputId": "f9426a20-e99e-44e1-9722-03c7755739c6"
      },
      "execution_count": 13,
      "outputs": [
        {
          "output_type": "stream",
          "name": "stdout",
          "text": [
            "20 + 10 = 30\n",
            "20 - 10 = 10\n",
            "20 * 10 = 200\n",
            "20 / 10 = 2.0\n"
          ]
        }
      ]
    },
    {
      "cell_type": "code",
      "source": [
        "#실습. 주급 계산\n",
        "def weeklyPay(rate, hour) :\n",
        "  if (hour > 30) :\n",
        "    money = rate*30 + 1.5*rate*(hour-30)\n",
        "  else :\n",
        "    money = rate * hour\n",
        "  return money\n",
        "\n",
        "r = int(input(\"시급 입력 : \"))\n",
        "h = int(input(\"근무 시간 입력 : \"))\n",
        "print(\"주급은 \" + str(weeklyPay(rate = r, hour = h)))"
      ],
      "metadata": {
        "colab": {
          "base_uri": "https://localhost:8080/"
        },
        "id": "Ep-MO9aKtVeF",
        "outputId": "42393cad-49fb-4a29-99a6-6600584b4663"
      },
      "execution_count": 14,
      "outputs": [
        {
          "output_type": "stream",
          "name": "stdout",
          "text": [
            "시급 입력 : 10000\n",
            "근무 시간 입력 : 40\n",
            "주급은 450000.0\n"
          ]
        }
      ]
    },
    {
      "cell_type": "code",
      "source": [
        "#실습. 피보나치 수열\n",
        "def fib(i) :\n",
        "  if i == 1:\n",
        "    return 0\n",
        "  elif i == 2:\n",
        "    return 1\n",
        "  else:\n",
        "    return fib(i-1) + fib(i-2)\n",
        "\n",
        "n = int(input(\"정수 n 입력 : \"))\n",
        "print(\"%d번째 피보나치 수열 = %d \" %(n,fib(n)))"
      ],
      "metadata": {
        "colab": {
          "base_uri": "https://localhost:8080/"
        },
        "id": "YNH7dQbEt6zZ",
        "outputId": "ed2fad2a-feea-4e1e-c51e-6d13e645cb1c"
      },
      "execution_count": 16,
      "outputs": [
        {
          "output_type": "stream",
          "name": "stdout",
          "text": [
            "정수 n 입력 : 30\n",
            "30번째 피보나치 수열 = 514229 \n"
          ]
        }
      ]
    },
    {
      "cell_type": "code",
      "source": [
        "#실습. 역수 수열의 합\n",
        "def rsum(n):\n",
        "  if n==1:\n",
        "    return 1\n",
        "  return rsum(n-1) + 1/n%i\n",
        "\n",
        "n = int(input(\"정수 입력 : \"))\n",
        "print(\"1에서 %d사이의 역수 수열의 합 = %.1f\" %(n,rsum(n)))"
      ],
      "metadata": {
        "colab": {
          "base_uri": "https://localhost:8080/"
        },
        "id": "Ne7BA2obufmg",
        "outputId": "19673107-4187-4fed-984e-2f310abdd5b4"
      },
      "execution_count": 17,
      "outputs": [
        {
          "output_type": "stream",
          "name": "stdout",
          "text": [
            "정수 입력 : 100\n",
            "1에서 100사이의 역수 수열의 합 = 5.2\n"
          ]
        }
      ]
    },
    {
      "cell_type": "markdown",
      "source": [],
      "metadata": {
        "id": "s4cth8MZsfvL"
      }
    },
    {
      "cell_type": "markdown",
      "source": [],
      "metadata": {
        "id": "9ajoM0VzdHIb"
      }
    }
  ]
}