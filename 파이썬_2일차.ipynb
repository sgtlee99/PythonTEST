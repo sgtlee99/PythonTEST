{
  "nbformat": 4,
  "nbformat_minor": 0,
  "metadata": {
    "colab": {
      "provenance": [],
      "collapsed_sections": [],
      "authorship_tag": "ABX9TyMuoVK42Q0aUb4vHLInSbvZ",
      "include_colab_link": true
    },
    "kernelspec": {
      "name": "python3",
      "display_name": "Python 3"
    },
    "language_info": {
      "name": "python"
    }
  },
  "cells": [
    {
      "cell_type": "markdown",
      "metadata": {
        "id": "view-in-github",
        "colab_type": "text"
      },
      "source": [
        "<a href=\"https://colab.research.google.com/github/sgtlee99/PythonTEST/blob/main/%ED%8C%8C%EC%9D%B4%EC%8D%AC_2%EC%9D%BC%EC%B0%A8.ipynb\" target=\"_parent\"><img src=\"https://colab.research.google.com/assets/colab-badge.svg\" alt=\"Open In Colab\"/></a>"
      ]
    },
    {
      "cell_type": "code",
      "execution_count": null,
      "metadata": {
        "id": "HQwZsJGUYPv8",
        "colab": {
          "base_uri": "https://localhost:8080/"
        },
        "outputId": "340aaa9c-deca-49fc-9788-2f9cf3c783b3"
      },
      "outputs": [
        {
          "output_type": "stream",
          "name": "stdout",
          "text": [
            "연도 입력 : 2024\n",
            "2024 년은 윤년\n"
          ]
        }
      ],
      "source": [
        "#실습. 윤년판단\n",
        "year = int(input('연도 입력 : '))\n",
        "if (year%4==0 and year%100!=0) or year%400==0 :\n",
        "  print(year, \"년은 윤년\")\n",
        "else :\n",
        "  print(year , \"년은 평년\")"
      ]
    },
    {
      "cell_type": "code",
      "source": [
        "#실습. 원 내부/외부 판단\n",
        "#조건) 원의 종심은 원점이고, 반지름의 크기는 5\n",
        "x, y = map(float, input('점의 좌표 x, y를 입력 : ').split())\n",
        "if x*x + y*y > 25 :\n",
        "  print('외부 점')\n",
        "else : \n",
        "  print('내부 점')"
      ],
      "metadata": {
        "colab": {
          "base_uri": "https://localhost:8080/"
        },
        "id": "MQnETbQgcLeK",
        "outputId": "c002fc31-af0a-40ab-f310-478edad0b3d1"
      },
      "execution_count": null,
      "outputs": [
        {
          "output_type": "stream",
          "name": "stdout",
          "text": [
            "점의 좌표 x, y를 입력 : 3 2\n",
            "내부 점\n"
          ]
        }
      ]
    },
    {
      "cell_type": "code",
      "source": [
        "#실습. 패널티킥 게임\n",
        "import random\n",
        "\n",
        "n = random.randint(1,3)\n",
        "if n == 1:\n",
        "  keeper = \"왼쪽\"\n",
        "elif n == 2 :\n",
        "  kepper = \"중앙\"\n",
        "else :\n",
        "  keeper = \"오른쪽\"\n",
        "\n",
        "kick = input(\"킥 위치 선택? (왼쪽, 중앙, 오른쪽) : \")\n",
        "if keeper == kick :\n",
        "  print('No Goal!')\n",
        "else : \n",
        "  print(\"Goal In!\")\n",
        "print(\"골 키퍼 수비 위치 : \", keeper)"
      ],
      "metadata": {
        "colab": {
          "base_uri": "https://localhost:8080/"
        },
        "id": "26WeMzM8cwzY",
        "outputId": "b66b079b-e4e5-44b5-e516-367155dc44fe"
      },
      "execution_count": null,
      "outputs": [
        {
          "output_type": "stream",
          "name": "stdout",
          "text": [
            "킥 위치 선택? (왼쪽, 중앙, 오른쪽) : 중앙\n",
            "Goal In!\n",
            "골 키퍼 수비 위치 :  오른쪽\n"
          ]
        }
      ]
    },
    {
      "cell_type": "code",
      "source": [
        "#수학(math) 모듈\n",
        "import math\n",
        "print('math.fabs(-3.3) = ', math.fabs(-3.3))\n",
        "print('math.ceil(3.3) = ', math.ceil(3.3))\n",
        "print('math.floor(3.9) = ', math.floor(3.9))\n",
        "print('math.pow(2,3) = ', math.pow(2,3)) \n",
        "print('math.log(math.e) = ', math.log(math.e))\n",
        "print('math.log10(10) = ', math.log10(10))\n",
        "print('math.sin(math.radians(90)) = ', math.sin(math.radians(90)))\n",
        "print('math.cos(math.radians(90)) = ', math.cos(math.radians(90)))"
      ],
      "metadata": {
        "colab": {
          "base_uri": "https://localhost:8080/"
        },
        "id": "G4pO2qT4goW1",
        "outputId": "7560dd77-5421-4979-8002-2b4ff174f71a"
      },
      "execution_count": null,
      "outputs": [
        {
          "output_type": "stream",
          "name": "stdout",
          "text": [
            "math.fabs(-3.3) =  3.3\n",
            "math.ceil(3.3) =  4\n",
            "math.floor(3.9) =  3\n",
            "math.pow(2,3) =  8.0\n",
            "math.log(math.e) =  1.0\n",
            "math.log10(10) =  1.0\n",
            "math.sin(math.radians(90)) =  1.0\n",
            "math.cos(math.radians(90)) =  6.123233995736766e-17\n"
          ]
        }
      ]
    },
    {
      "cell_type": "code",
      "source": [
        "#실습. 이차 방정식의 근\n",
        "import math\n",
        "a,b,c = map(int, input(\"계수를 입력하시오 (a는 0이 아님) : \").split())\n",
        "det = b**2 - 4*a*c\n",
        "\n",
        "if det < 0 :\n",
        "  print('근이 없음')\n",
        "elif det == 0 :\n",
        "  print('중근 : ', -b/(2*a))\n",
        "else : \n",
        "  print('두 실근 : ', (-b-math.sqrt(det))/(2*a), (-b+math.sqrt(det))/(2*a))"
      ],
      "metadata": {
        "id": "gz_92jaUdxuJ",
        "colab": {
          "base_uri": "https://localhost:8080/"
        },
        "outputId": "3a737b4e-1faf-4fcc-cd83-80d71a150534"
      },
      "execution_count": null,
      "outputs": [
        {
          "output_type": "stream",
          "name": "stdout",
          "text": [
            "계수를 입력하시오 (a는 0이 아님) : 1 -2 -3\n",
            "두 실근 :  -1.0 3.0\n"
          ]
        }
      ]
    },
    {
      "cell_type": "code",
      "source": [
        "#실습. 팩토리얼계산\n",
        "n = int(input(\"정수 입력 : \"))\n",
        "fact = 1\n",
        "for i in range(1, n+1):\n",
        "  fact = fact * i\n",
        "  print(\"%d! == %d\" % (n,fact))"
      ],
      "metadata": {
        "colab": {
          "base_uri": "https://localhost:8080/"
        },
        "id": "Xhxypb8wuADY",
        "outputId": "b7d63f05-531a-4d05-e3a2-e7e5b70ceaa7"
      },
      "execution_count": null,
      "outputs": [
        {
          "output_type": "stream",
          "name": "stdout",
          "text": [
            "정수 입력 : 10\n",
            "10! == 1\n",
            "10! == 2\n",
            "10! == 6\n",
            "10! == 24\n",
            "10! == 120\n",
            "10! == 720\n",
            "10! == 5040\n",
            "10! == 40320\n",
            "10! == 362880\n",
            "10! == 3628800\n"
          ]
        }
      ]
    },
    {
      "cell_type": "code",
      "source": [
        "#실습. 약수계산\n",
        "n = int(input(\"정수 입력 : \"))\n",
        "print('%d의 약수 : '%n)\n",
        "for i in range(1, n+1):\n",
        "  if n % i == 0 :\n",
        "    print(i, end=' ')"
      ],
      "metadata": {
        "id": "0lqS3uMEjhiL",
        "colab": {
          "base_uri": "https://localhost:8080/"
        },
        "outputId": "ecfff993-f9be-4d31-ac64-8f4ea61d4bab"
      },
      "execution_count": null,
      "outputs": [
        {
          "output_type": "stream",
          "name": "stdout",
          "text": [
            "정수 입력 : 100\n",
            "100의 약수 : \n",
            "1 2 4 5 10 20 25 50 100 "
          ]
        }
      ]
    },
    {
      "cell_type": "code",
      "source": [
        "#실습. 원주율 계산\n",
        "pi = 0\n",
        "for i in range(1,100000) : \n",
        "  if i%2 == 1 :\n",
        "    pi += 1/(2*i-1)\n",
        "  else : \n",
        "    pi -= 1/(2*i-1)\n",
        "print('원주율 = ', pi * 4)"
      ],
      "metadata": {
        "colab": {
          "base_uri": "https://localhost:8080/"
        },
        "id": "2It9Es9k2Yqm",
        "outputId": "059e7a03-4861-4405-8404-187ca1b6963f"
      },
      "execution_count": null,
      "outputs": [
        {
          "output_type": "stream",
          "name": "stdout",
          "text": [
            "원주율 =  3.1416026536897204\n"
          ]
        }
      ]
    }
  ]
}