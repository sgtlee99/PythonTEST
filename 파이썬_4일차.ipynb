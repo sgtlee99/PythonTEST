{
  "nbformat": 4,
  "nbformat_minor": 0,
  "metadata": {
    "colab": {
      "provenance": [],
      "collapsed_sections": [],
      "authorship_tag": "ABX9TyO4ZMxjaM3Hr4OHvyCr9Vsu",
      "include_colab_link": true
    },
    "kernelspec": {
      "name": "python3",
      "display_name": "Python 3"
    },
    "language_info": {
      "name": "python"
    }
  },
  "cells": [
    {
      "cell_type": "markdown",
      "metadata": {
        "id": "view-in-github",
        "colab_type": "text"
      },
      "source": [
        "<a href=\"https://colab.research.google.com/github/sgtlee99/PythonTEST/blob/main/%ED%8C%8C%EC%9D%B4%EC%8D%AC_4%EC%9D%BC%EC%B0%A8.ipynb\" target=\"_parent\"><img src=\"https://colab.research.google.com/assets/colab-badge.svg\" alt=\"Open In Colab\"/></a>"
      ]
    },
    {
      "cell_type": "code",
      "execution_count": 2,
      "metadata": {
        "colab": {
          "base_uri": "https://localhost:8080/"
        },
        "id": "_GpHeNlJgw7U",
        "outputId": "854f88b9-cd86-43fc-cd69-b9c67b25ce6a"
      },
      "outputs": [
        {
          "output_type": "stream",
          "name": "stdout",
          "text": [
            "[1]\n",
            "[1, 2, 3, 4, 5]\n",
            "['apple', 'banana', 'orange', 'abocado']\n",
            "[0, 1, 2, 3, 4]\n",
            "[5, 6, 7, 8, 9]\n"
          ]
        }
      ],
      "source": [
        "#리스트 생성\n",
        "#빈 리스트 생성\n",
        "lst = []\n",
        "#항목추가 -> append\n",
        "lst.append(1)\n",
        "print(lst)\n",
        "\n",
        "#초기값을 가지는 리스트 생성\n",
        "lst1 = [1,2,3,4,5]\n",
        "print(lst1)\n",
        "fruits = [\"apple\", \"banana\", \"orange\", \"abocado\"]\n",
        "print(fruits)\n",
        "\n",
        "#list() 함수와 range() 함수를 이용해 생성\n",
        "lst2 = list(range(5))\n",
        "print(lst2)\n",
        "lst3 = list(range(5,10))\n",
        "print(lst3)"
      ]
    },
    {
      "cell_type": "code",
      "source": [
        "#실습. 리스트의 평균, 분산, 표준편차\n",
        "import math, random\n",
        "n = int(input(\"정수 입력 : \"))\n",
        "lst = []\n",
        "for i in range(n) :\n",
        "  lst.append(random.randint(1,100))\n",
        "\n",
        "print(lst)\n",
        "mean = sum(lst) / len(lst)  #평균\n",
        "vsum = 0\n",
        "for val in lst :\n",
        "  vsum += (val - mean)**2\n",
        "variance = vsum / len(lst)  #분산\n",
        "\n",
        "print(\"평균 : \", mean)\n",
        "print(\"분산 : \", variance)\n",
        "print(\"표준편차 : \", math.sqrt(variance))"
      ],
      "metadata": {
        "colab": {
          "base_uri": "https://localhost:8080/"
        },
        "id": "Mgdcuoe3j2ha",
        "outputId": "fa4fae08-d7c1-4962-aed3-a1f141dc0265"
      },
      "execution_count": 3,
      "outputs": [
        {
          "output_type": "stream",
          "name": "stdout",
          "text": [
            "정수 입력 : 10\n",
            "[52, 4, 5, 98, 83, 53, 30, 75, 3, 67]\n",
            "평균 :  47.0\n",
            "분산 :  1098.0\n",
            "표준편차 :  33.13608305156178\n"
          ]
        }
      ]
    },
    {
      "cell_type": "code",
      "source": [
        "#리스트 내장 함수\n",
        "#list() 함수\n",
        "#튜플 객체와 동일한 값을 가지는 리스트 객체 반환\n",
        "print(list((1,2,3)))\n",
        "#any() 함수\n",
        "print(any([1,2,3]))\n",
        "print(any([False, 0, \"\"]))\n",
        "#all() 함수\n",
        "print(all([1,2,3]))\n",
        "print(all([True, 1, \"\"]))\n"
      ],
      "metadata": {
        "colab": {
          "base_uri": "https://localhost:8080/"
        },
        "id": "vZN4-EyolS8g",
        "outputId": "6f58c67f-420c-4d60-c01d-d80de230bdbb"
      },
      "execution_count": 7,
      "outputs": [
        {
          "output_type": "stream",
          "name": "stdout",
          "text": [
            "[1, 2, 3]\n",
            "True\n",
            "False\n",
            "True\n",
            "False\n"
          ]
        }
      ]
    },
    {
      "cell_type": "code",
      "source": [
        "#인덱싱, 슬라이싱\n",
        "letters = [\"A\",\"B\",\"C\",\"D\",\"E\",\"F\"]\n",
        "print(\"====인덱싱====\")\n",
        "print(letters[0])\n",
        "print(letters[1])\n",
        "print(letters[5])\n",
        "print(letters[-1])\n",
        "print(\"====슬라이싱===\")\n",
        "print(letters[0:6])\n",
        "print(letters[:])\n",
        "print(letters[:-1])\n",
        "print(letters[::2])\n",
        "print(letters[1::2])"
      ],
      "metadata": {
        "colab": {
          "base_uri": "https://localhost:8080/"
        },
        "id": "pQ8aRzwEq9hh",
        "outputId": "ef68be22-f839-4d28-aa5f-f49d70196b4c"
      },
      "execution_count": 9,
      "outputs": [
        {
          "output_type": "stream",
          "name": "stdout",
          "text": [
            "====인덱싱====\n",
            "A\n",
            "B\n",
            "F\n",
            "F\n",
            "====슬라이싱===\n",
            "['A', 'B', 'C', 'D', 'E', 'F']\n",
            "['A', 'B', 'C', 'D', 'E', 'F']\n",
            "['A', 'B', 'C', 'D', 'E']\n",
            "['A', 'C', 'E']\n",
            "['B', 'D', 'F']\n"
          ]
        }
      ]
    },
    {
      "cell_type": "code",
      "source": [
        "#리스트 얕은 복사(참조)\n",
        "print(\"===얕은 복사===\")\n",
        "alist = [1,2,3,4,5,]\n",
        "blist = alist\n",
        "print(id(alist))\n",
        "print(id(blist))\n",
        "alist[0] = 10\n",
        "print(blist)\n",
        "#리스트 깊은 복사(복제)\n",
        "print(\"===깊은 복사===\")\n",
        "clist = [1,2,3,4,5]\n",
        "dlist = list(clist)\n",
        "elist = clist[:]\n",
        "print(id(clist))\n",
        "print(id(dlist))\n",
        "print(id(elist))\n",
        "alist[0] = 10\n",
        "print(dlist)\n",
        "print(elist)"
      ],
      "metadata": {
        "colab": {
          "base_uri": "https://localhost:8080/"
        },
        "id": "HHCz0fxqr6Pe",
        "outputId": "33a7d3b4-6683-4487-e4a9-14ec54fb69fe"
      },
      "execution_count": 11,
      "outputs": [
        {
          "output_type": "stream",
          "name": "stdout",
          "text": [
            "===얕은 복사===\n",
            "140520844787456\n",
            "140520844787456\n",
            "[10, 2, 3, 4, 5]\n",
            "===깊은 복사===\n",
            "140520844742480\n",
            "140520844963024\n",
            "140520844757664\n",
            "[1, 2, 3, 4, 5]\n",
            "[1, 2, 3, 4, 5]\n"
          ]
        }
      ]
    },
    {
      "cell_type": "code",
      "source": [
        "#리스트의 메소드\n",
        "lst = [1,2,3,2,3]\n",
        "print(lst.index(3))\n",
        "print(lst.count(3))\n",
        "if 4 in lst :\n",
        "  print(lst.index(4))\n",
        "else :\n",
        "  print(\"원소 4는 리스트에 없음\")"
      ],
      "metadata": {
        "colab": {
          "base_uri": "https://localhost:8080/"
        },
        "id": "5O3b8xpMz-9h",
        "outputId": "33b23354-54ba-493c-f9b0-943a4f654bda"
      },
      "execution_count": 12,
      "outputs": [
        {
          "output_type": "stream",
          "name": "stdout",
          "text": [
            "2\n",
            "2\n",
            "원소 4는 리스트에 없음\n"
          ]
        }
      ]
    },
    {
      "cell_type": "code",
      "source": [
        "#리스트의 메소드 : 추가, 삽입\n",
        "lst = [1,3,4]\n",
        "lst.append(5)\n",
        "print(lst)\n",
        "lst.insert(1,2)\n",
        "print(lst)\n",
        "lst.extend([6,7,8])\n",
        "print(lst)"
      ],
      "metadata": {
        "colab": {
          "base_uri": "https://localhost:8080/"
        },
        "id": "zp5BNedz0yAc",
        "outputId": "b1dddac5-969b-4c73-ea7f-f51255897d74"
      },
      "execution_count": 13,
      "outputs": [
        {
          "output_type": "stream",
          "name": "stdout",
          "text": [
            "[1, 3, 4, 5]\n",
            "[1, 2, 3, 4, 5]\n",
            "[1, 2, 3, 4, 5, 6, 7, 8]\n"
          ]
        }
      ]
    },
    {
      "cell_type": "code",
      "source": [
        "#리스트의 메소드 : 항목 삭제\n",
        "lst = [1,2,3,4,3]\n",
        "lst.remove(3)\n",
        "print(lst.pop(2))\n",
        "print(lst)\n",
        "del lst[2]\n",
        "print(lst)"
      ],
      "metadata": {
        "colab": {
          "base_uri": "https://localhost:8080/"
        },
        "id": "4WbcOeah1JbM",
        "outputId": "dab6673a-1047-4cc2-c3c9-fdfa025b8bf3"
      },
      "execution_count": 14,
      "outputs": [
        {
          "output_type": "stream",
          "name": "stdout",
          "text": [
            "4\n",
            "[1, 2, 3]\n",
            "[1, 2]\n"
          ]
        }
      ]
    },
    {
      "cell_type": "code",
      "source": [
        "#리스트의 정렬\n",
        "alist = [1,5,3,4,2]\n",
        "alist.sort(reverse = False)\n",
        "print(alist)\n",
        "blist = sorted(alist, reverse=True)\n",
        "print(\"alist = \", alist)\n",
        "print(\"blist = \", blist)"
      ],
      "metadata": {
        "colab": {
          "base_uri": "https://localhost:8080/"
        },
        "id": "H3iH2FUf1Z2D",
        "outputId": "57b29e0b-4157-4120-91e8-52f59fc387d2"
      },
      "execution_count": 15,
      "outputs": [
        {
          "output_type": "stream",
          "name": "stdout",
          "text": [
            "[1, 2, 3, 4, 5]\n",
            "alist =  [1, 2, 3, 4, 5]\n",
            "blist =  [5, 4, 3, 2, 1]\n"
          ]
        }
      ]
    },
    {
      "cell_type": "code",
      "source": [
        "#리스트 함축\n",
        "lst = [x for x in range(10)]\n",
        "print(lst)\n",
        "lst = [x*x for x in range(10)]\n",
        "print(lst)\n",
        "lst = [x for x in range(10) if x%2 == 0] \n",
        "print(lst)\n",
        "lst = [x**2 for x in range(10) if x%2==0]\n",
        "print(lst)\n",
        "print(\"=============\")\n",
        "rst = [x.upper() for x in \"hello\"]\n",
        "print(rst)\n",
        "words = [\"welcom\", \"to\", \"the\", \"python\", \"word\"]\n",
        "rst = [w[0].upper() for w in words]\n",
        "print(rst)"
      ],
      "metadata": {
        "colab": {
          "base_uri": "https://localhost:8080/"
        },
        "id": "qRpaaBTv1ttm",
        "outputId": "31e69038-5b17-411f-993a-3a727c500db6"
      },
      "execution_count": 17,
      "outputs": [
        {
          "output_type": "stream",
          "name": "stdout",
          "text": [
            "[0, 1, 2, 3, 4, 5, 6, 7, 8, 9]\n",
            "[0, 1, 4, 9, 16, 25, 36, 49, 64, 81]\n",
            "[0, 2, 4, 6, 8]\n",
            "[0, 4, 16, 36, 64]\n",
            "=============\n",
            "['H', 'E', 'L', 'L', 'O']\n",
            "['W', 'T', 'T', 'P', 'W']\n"
          ]
        }
      ]
    },
    {
      "cell_type": "code",
      "source": [
        "#조건이 붙는 리스트 함축\n",
        "lst = [\"Hello\", \"123\", \"World\", \"456\"]\n",
        "numbers = [x for x in lst if x.isdigit()]\n",
        "print(numbers)"
      ],
      "metadata": {
        "colab": {
          "base_uri": "https://localhost:8080/"
        },
        "id": "RVUPSZY73Mk7",
        "outputId": "d233febc-6f85-4fb6-8bb8-89728f195315"
      },
      "execution_count": 18,
      "outputs": [
        {
          "output_type": "stream",
          "name": "stdout",
          "text": [
            "['123', '456']\n"
          ]
        }
      ]
    },
    {
      "cell_type": "code",
      "source": [
        "lst = [int(x) for x in input(\"정수 입력 : \").split() if x.isdigit()]\n",
        "print(lst)"
      ],
      "metadata": {
        "colab": {
          "base_uri": "https://localhost:8080/"
        },
        "id": "ND0snELW3cBB",
        "outputId": "506ee064-446e-4dc0-f12d-6fa1180a0cde"
      },
      "execution_count": 19,
      "outputs": [
        {
          "output_type": "stream",
          "name": "stdout",
          "text": [
            "정수 입력 : 1 둘 3 4 오\n",
            "[1, 3, 4]\n"
          ]
        }
      ]
    },
    {
      "cell_type": "code",
      "source": [
        "lst = [(x,y) for x in [1,2,3] for y in [4,5,6] if x != y]\n",
        "print(lst)"
      ],
      "metadata": {
        "colab": {
          "base_uri": "https://localhost:8080/"
        },
        "id": "OFiI15Hs3cHx",
        "outputId": "ca144bb3-cb98-4c6f-b1cd-eb9b99f016fe"
      },
      "execution_count": 20,
      "outputs": [
        {
          "output_type": "stream",
          "name": "stdout",
          "text": [
            "[(1, 4), (1, 5), (1, 6), (2, 4), (2, 5), (2, 6), (3, 4), (3, 5), (3, 6)]\n"
          ]
        }
      ]
    },
    {
      "cell_type": "code",
      "source": [
        "#딕셔너리의 메소드\n",
        "dict = {\"book\" : \"책\", \"note\" : \"노트\", \"pen\" : \"연필\"}\n",
        "print(dict.keys())\n",
        "print(dict.values())\n",
        "print(dict.items())\n",
        "for k, v in dict.items() : \n",
        "  print(k, \":\", v)"
      ],
      "metadata": {
        "colab": {
          "base_uri": "https://localhost:8080/"
        },
        "id": "RKqWCrkK4Lxu",
        "outputId": "42d01cf1-5132-4e25-88c5-d26700b090f9"
      },
      "execution_count": 21,
      "outputs": [
        {
          "output_type": "stream",
          "name": "stdout",
          "text": [
            "dict_keys(['book', 'note', 'pen'])\n",
            "dict_values(['책', '노트', '연필'])\n",
            "dict_items([('book', '책'), ('note', '노트'), ('pen', '연필')])\n",
            "book : 책\n",
            "note : 노트\n",
            "pen : 연필\n"
          ]
        }
      ]
    },
    {
      "cell_type": "code",
      "source": [
        "#람다 함수와 튜플\n",
        "t = (10,20,30)\n",
        "print((lambda x : x[0])(t))\n",
        "print((lambda x : x[1])(t))\n",
        "print()\n",
        "\n",
        "dict = {\"book\" : \"책\", \"note\" : \"노트\", \"pen\" : \"연필\"}\n",
        "\n",
        "sdict = sorted(dict.items(), key = lambda x : x[1])\n",
        "print(sdict)\n",
        "\n",
        "sdict = sorted(dict.items(), key = lambda x : x[0])\n",
        "print(sdict)"
      ],
      "metadata": {
        "colab": {
          "base_uri": "https://localhost:8080/"
        },
        "id": "1KSY7uRs4yAV",
        "outputId": "02ea17a2-7ab5-4a49-bfcf-19fbbb357c92"
      },
      "execution_count": 23,
      "outputs": [
        {
          "output_type": "stream",
          "name": "stdout",
          "text": [
            "10\n",
            "20\n",
            "\n",
            "[('note', '노트'), ('pen', '연필'), ('book', '책')]\n",
            "[('book', '책'), ('note', '노트'), ('pen', '연필')]\n"
          ]
        }
      ]
    },
    {
      "cell_type": "code",
      "source": [
        "#map() 함수\n",
        "def square(n) :\n",
        "  return n*n\n",
        "  \n",
        "lst = [1,2,3,4,5]\n",
        "print(list(map(square, lst)))\n",
        "print(list(map(lambda n: n**2, lst)))"
      ],
      "metadata": {
        "colab": {
          "base_uri": "https://localhost:8080/"
        },
        "id": "jwrtuNcF6TXi",
        "outputId": "dc2d02c3-c5f2-4d0e-c72b-4bd4952d9175"
      },
      "execution_count": 24,
      "outputs": [
        {
          "output_type": "stream",
          "name": "stdout",
          "text": [
            "[1, 4, 9, 16, 25]\n",
            "[1, 4, 9, 16, 25]\n"
          ]
        }
      ]
    },
    {
      "cell_type": "code",
      "source": [
        "from typing_extensions import DefaultDict\n",
        "print(\"사전 프로그램 시작... 종료는 q 를 입력\")\n",
        "dict = {}\n",
        "\n",
        "while True : \n",
        "  st = input(\"$ \")\n",
        "  command = st[0]\n",
        "  if command == \"<\":\n",
        "    st = st[1:]\n",
        "    inputStr = st.split(\":\")\n",
        "    if len(inputStr) < 2 :\n",
        "        print(\"입력 오류\")\n",
        "    else :\n",
        "      dict[inputStr[0].strip()] = inputStr[1].strip()\n",
        "  elif command == \">\" :\n",
        "    st = st[1:]\n",
        "    inputStr = st.strip()\n",
        "    if inputStr in dict :\n",
        "      print(dict[inputStr])\n",
        "    else :\n",
        "      print(\"{}는 사전에 없음\".format(inputStr))\n",
        "  elif command == \"q\" :\n",
        "    break\n",
        "  else :\n",
        "    print(\"입력오류\")\n",
        "\n",
        "print(\"사전 프로그램 종료\")"
      ],
      "metadata": {
        "colab": {
          "base_uri": "https://localhost:8080/"
        },
        "id": "fHa5Gg7n65OC",
        "outputId": "735c74a1-dd46-440d-9c92-91619d742ebf"
      },
      "execution_count": 26,
      "outputs": [
        {
          "output_type": "stream",
          "name": "stdout",
          "text": [
            "사전 프로그램 시작... 종료는 q 를 입력\n",
            "$ < one:하나\n",
            "$ < two:둘\n",
            "$ < three:셋\n",
            "$ > one\n",
            "하나\n",
            "$ > q\n",
            "q는 사전에 없음\n",
            "$ q\n",
            "사전 프로그램 종료\n"
          ]
        }
      ]
    },
    {
      "cell_type": "markdown",
      "source": [],
      "metadata": {
        "id": "WV-ajRJG3zW9"
      }
    }
  ]
}