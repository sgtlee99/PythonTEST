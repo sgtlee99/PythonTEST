{
  "nbformat": 4,
  "nbformat_minor": 0,
  "metadata": {
    "colab": {
      "provenance": [],
      "collapsed_sections": [],
      "authorship_tag": "ABX9TyPj7CDVKotT2ujSHwRtt3tJ",
      "include_colab_link": true
    },
    "kernelspec": {
      "name": "python3",
      "display_name": "Python 3"
    },
    "language_info": {
      "name": "python"
    }
  },
  "cells": [
    {
      "cell_type": "markdown",
      "metadata": {
        "id": "view-in-github",
        "colab_type": "text"
      },
      "source": [
        "<a href=\"https://colab.research.google.com/github/sgtlee99/PythonTEST/blob/main/%ED%8C%8C%EC%9D%B4%EC%8D%AC_7%EC%9D%BC%EC%B0%A8.ipynb\" target=\"_parent\"><img src=\"https://colab.research.google.com/assets/colab-badge.svg\" alt=\"Open In Colab\"/></a>"
      ]
    },
    {
      "cell_type": "code",
      "execution_count": 1,
      "metadata": {
        "colab": {
          "base_uri": "https://localhost:8080/"
        },
        "id": "md6PSe39rnQK",
        "outputId": "b4616102-ed0c-4643-ed56-b493fb68729e"
      },
      "outputs": [
        {
          "output_type": "stream",
          "name": "stdout",
          "text": [
            "100 True\n"
          ]
        }
      ],
      "source": [
        "#상속예제 : 자동차\n",
        "class Car :\n",
        "  def setSpeed(self, s) :\n",
        "    self.speed = s\n",
        "\n",
        "class SportsCar(Car) :\n",
        "  def setTurbo(self, t) :\n",
        "    self.turbo = t\n",
        "\n",
        "sc = SportsCar()\n",
        "sc.setSpeed(100)\n",
        "sc.setTurbo(True)\n",
        "print(sc.speed, sc.turbo)"
      ]
    },
    {
      "cell_type": "code",
      "source": [
        "#부모클래스의 생성자 호출\n",
        "class Parent : \n",
        "  def __init__(self, x):\n",
        "    self.x = x\n",
        "\n",
        "class Child(Parent) :\n",
        "  def __init__(self, x, y) :\n",
        "    super().__init__(x)\n",
        "    self.y = y\n",
        "\n",
        "ch = Child(10,20)\n",
        "print(ch.x, ch.y)\n",
        "#isinstance() 함수\n",
        "print(type(ch))\n",
        "print(isinstance(ch, Parent))"
      ],
      "metadata": {
        "colab": {
          "base_uri": "https://localhost:8080/"
        },
        "id": "sbr5s5BnwK8h",
        "outputId": "2f2c157c-036c-4e5a-9084-df379b6c5e36"
      },
      "execution_count": 4,
      "outputs": [
        {
          "output_type": "stream",
          "name": "stdout",
          "text": [
            "10 20\n",
            "<class '__main__.Child'>\n",
            "True\n"
          ]
        }
      ]
    },
    {
      "cell_type": "code",
      "source": [
        "#상속과 접근제어\n",
        "class Parent : \n",
        "  def __init__(self):\n",
        "    self.money = 100\n",
        "\n",
        "class Child(Parent) :\n",
        "  def __init__(self) :\n",
        "    super().__init__()\n",
        "\n",
        "class Parent1 : \n",
        "  def __init__(self):\n",
        "    self.__money = 100\n",
        "\n",
        "class Child1(Parent) :\n",
        "  def __init__(self) :\n",
        "    super().__init__()\n",
        "\n",
        "ch = Child()\n",
        "print(ch.money)\n",
        "ch1= Child1()\n",
        "print(ch.__money)"
      ],
      "metadata": {
        "colab": {
          "base_uri": "https://localhost:8080/",
          "height": 227
        },
        "id": "2ki6T_imx6c5",
        "outputId": "f4328cdf-c2b9-4373-c1da-c133f07fc824"
      },
      "execution_count": 6,
      "outputs": [
        {
          "output_type": "stream",
          "name": "stdout",
          "text": [
            "100\n"
          ]
        },
        {
          "output_type": "error",
          "ename": "AttributeError",
          "evalue": "ignored",
          "traceback": [
            "\u001b[0;31m---------------------------------------------------------------------------\u001b[0m",
            "\u001b[0;31mAttributeError\u001b[0m                            Traceback (most recent call last)",
            "\u001b[0;32m<ipython-input-6-2b35cd634a81>\u001b[0m in \u001b[0;36m<module>\u001b[0;34m\u001b[0m\n\u001b[1;32m     19\u001b[0m \u001b[0mprint\u001b[0m\u001b[0;34m(\u001b[0m\u001b[0mch\u001b[0m\u001b[0;34m.\u001b[0m\u001b[0mmoney\u001b[0m\u001b[0;34m)\u001b[0m\u001b[0;34m\u001b[0m\u001b[0;34m\u001b[0m\u001b[0m\n\u001b[1;32m     20\u001b[0m \u001b[0mch1\u001b[0m\u001b[0;34m=\u001b[0m \u001b[0mChild1\u001b[0m\u001b[0;34m(\u001b[0m\u001b[0;34m)\u001b[0m\u001b[0;34m\u001b[0m\u001b[0;34m\u001b[0m\u001b[0m\n\u001b[0;32m---> 21\u001b[0;31m \u001b[0mprint\u001b[0m\u001b[0;34m(\u001b[0m\u001b[0mch\u001b[0m\u001b[0;34m.\u001b[0m\u001b[0m__money\u001b[0m\u001b[0;34m)\u001b[0m\u001b[0;34m\u001b[0m\u001b[0;34m\u001b[0m\u001b[0m\n\u001b[0m",
            "\u001b[0;31mAttributeError\u001b[0m: 'Child' object has no attribute '__money'"
          ]
        }
      ]
    },
    {
      "cell_type": "code",
      "source": [
        "#다중상속\n",
        "class Car :\n",
        "  def drive(self) :\n",
        "    print(\"Drive\")\n",
        "class Plane :\n",
        "  def fly(self) :\n",
        "    print(\"Fly\")\n",
        "class FlyingCar(Car, Plane) :\n",
        "  def move(self) :\n",
        "    print(\"move\")\n",
        "\n",
        "fc = FlyingCar()\n",
        "fc.drive()\n",
        "fc.fly()\n",
        "fc.move()"
      ],
      "metadata": {
        "colab": {
          "base_uri": "https://localhost:8080/"
        },
        "id": "pEEmV1F0ys8B",
        "outputId": "18d237a5-dc77-45fe-a365-cd6652923956"
      },
      "execution_count": 7,
      "outputs": [
        {
          "output_type": "stream",
          "name": "stdout",
          "text": [
            "Drive\n",
            "Fly\n",
            "move\n"
          ]
        }
      ]
    },
    {
      "cell_type": "code",
      "source": [
        "#다중상속 : 부모 생성자 호출\n",
        "class Car :\n",
        "  def __init__(self) :\n",
        "    print(\"Car\")\n",
        "class Plane :\n",
        "  def __init__(self) :\n",
        "    print(\"Plane\")\n",
        "class FlyingCar(Car, Plane) :\n",
        "  def __init__(self) :\n",
        "    super().__init__()\n",
        "    Car.__init__(self)\n",
        "    Plane.__init__(self)\n",
        "\n",
        "fc = FlyingCar()"
      ],
      "metadata": {
        "colab": {
          "base_uri": "https://localhost:8080/"
        },
        "id": "4jKS_WuXzMOx",
        "outputId": "1f13a810-4bff-4656-c073-9294d1dee694"
      },
      "execution_count": 9,
      "outputs": [
        {
          "output_type": "stream",
          "name": "stdout",
          "text": [
            "Car\n",
            "Car\n",
            "Plane\n"
          ]
        }
      ]
    },
    {
      "cell_type": "code",
      "source": [
        "#상속과 다형성 예 : 도형\n",
        "class Shape:\n",
        "  def __init__(self, name) :\n",
        "    self.name = name\n",
        "  def getArea(self) :\n",
        "    pass\n",
        "\n",
        "class Circle(Shape) :\n",
        "  def __init__(self, name, radius) :\n",
        "    super().__init__(name)\n",
        "    self.radius = radius\n",
        "\n",
        "  def getArea(self) :\n",
        "    return 3.14 * self.radius**2\n",
        "\n",
        "class Rectangle(Shape) :\n",
        "  def __init__(self,name, width, height):\n",
        "    super().__init__(name)\n",
        "    self.width = width\n",
        "    self.height = height\n",
        "\n",
        "  def getArea(self) :   #메소드 오버라이딩\n",
        "    return self.width*self.height\n",
        "\n",
        "shapeList = [ Circle(\"c1\", 10), Rectangle(\"r1\",10,10)]   #업캐스팅(객체 리스트)\n",
        "for s in shapeList:\n",
        "  print(s.getArea())  #재정의된 메소드 호출 ==> 다형성발생!"
      ],
      "metadata": {
        "colab": {
          "base_uri": "https://localhost:8080/"
        },
        "id": "p4W5ALW0zldm",
        "outputId": "0abd314a-9f5e-498e-b583-8f4d69d85aab"
      },
      "execution_count": 12,
      "outputs": [
        {
          "output_type": "stream",
          "name": "stdout",
          "text": [
            "314.0\n",
            "100\n"
          ]
        }
      ]
    },
    {
      "cell_type": "code",
      "source": [
        "#상속과 다형성 예 : 동물\n",
        "class Animal :\n",
        "  def speak(self) :\n",
        "    pass\n",
        "\n",
        "class Cat(Animal) :\n",
        "  def speak(self) :\n",
        "    print(\"야옹\")\n",
        "\n",
        "class Dog(Animal) :\n",
        "  def speak(self):\n",
        "    print(\"멍멍\")\n",
        "\n",
        "lst = [Cat(), Dog() ]\n",
        "for an in lst:\n",
        "  an.speak()"
      ],
      "metadata": {
        "colab": {
          "base_uri": "https://localhost:8080/"
        },
        "id": "7O8-9L0Y8M1X",
        "outputId": "0138578e-4957-4370-b923-dc22426b85fa"
      },
      "execution_count": 13,
      "outputs": [
        {
          "output_type": "stream",
          "name": "stdout",
          "text": [
            "야옹\n",
            "멍멍\n"
          ]
        }
      ]
    },
    {
      "cell_type": "code",
      "source": [
        "#__str__() 메소드 재정의\n",
        "class MyTime :\n",
        "  def __init__(self, hour, minute, second=0) :\n",
        "    self.hour = hour\n",
        "    self.minute = minute\n",
        "    self.second = second\n",
        "  def __str__(self) :\n",
        "    return '%02d:%02d:%02d' % (self.hour, self.minute, self.second)\n",
        "\n",
        "time = MyTime(1,23)\n",
        "print(time)\n"
      ],
      "metadata": {
        "colab": {
          "base_uri": "https://localhost:8080/"
        },
        "id": "hjUByVQo8l0m",
        "outputId": "8133c3b4-4ec0-4949-a023-cab912724f5d"
      },
      "execution_count": 15,
      "outputs": [
        {
          "output_type": "stream",
          "name": "stdout",
          "text": [
            "01:23:00\n"
          ]
        }
      ]
    },
    {
      "cell_type": "code",
      "source": [
        "#__call__() 메소드\n",
        "class Foo :\n",
        "  def __init__(self, x=0):\n",
        "    self.x = x\n",
        "  def __str__(self):\n",
        "    return '[Foo : x=%d]' % self.x\n",
        "  def __call__(self, *args):\n",
        "    print(\"__call__method\", args)\n",
        "f1 = Foo(5)\n",
        "print(f1)\n",
        "f1()\n",
        "f1(1,2,3)"
      ],
      "metadata": {
        "colab": {
          "base_uri": "https://localhost:8080/"
        },
        "id": "9kAHnevq-FZh",
        "outputId": "2a4472fd-dbd1-448d-8c45-325c5b4f1db2"
      },
      "execution_count": 16,
      "outputs": [
        {
          "output_type": "stream",
          "name": "stdout",
          "text": [
            "[Foo : x=5]\n",
            "__call__method ()\n",
            "__call__method (1, 2, 3)\n"
          ]
        }
      ]
    }
  ]
}