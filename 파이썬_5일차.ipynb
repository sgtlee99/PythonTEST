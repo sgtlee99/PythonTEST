{
  "nbformat": 4,
  "nbformat_minor": 0,
  "metadata": {
    "colab": {
      "provenance": [],
      "collapsed_sections": [],
      "authorship_tag": "ABX9TyM3AY4IGXpyRhuPZFveQ/eL",
      "include_colab_link": true
    },
    "kernelspec": {
      "name": "python3",
      "display_name": "Python 3"
    },
    "language_info": {
      "name": "python"
    }
  },
  "cells": [
    {
      "cell_type": "markdown",
      "metadata": {
        "id": "view-in-github",
        "colab_type": "text"
      },
      "source": [
        "<a href=\"https://colab.research.google.com/github/sgtlee99/PythonTEST/blob/main/%ED%8C%8C%EC%9D%B4%EC%8D%AC_5%EC%A3%BC%EC%B0%A8.ipynb\" target=\"_parent\"><img src=\"https://colab.research.google.com/assets/colab-badge.svg\" alt=\"Open In Colab\"/></a>"
      ]
    },
    {
      "cell_type": "code",
      "execution_count": null,
      "metadata": {
        "colab": {
          "base_uri": "https://localhost:8080/"
        },
        "id": "Dtgb6p3-lXlf",
        "outputId": "7aee4a1e-d883-4ff6-ffe0-6f7a1965895c"
      },
      "outputs": [
        {
          "output_type": "stream",
          "name": "stdout",
          "text": [
            "x= 10\n",
            "args= (1, 2, 3)\n",
            "x= 20\n",
            "kargs= {'a': 1, 'b': 2, 'c': 3}\n"
          ]
        }
      ],
      "source": [
        "#가변 인자 함수\n",
        "def fun1(x, *args) :  # 위치 가변 인자\n",
        "  print('x=', x)\n",
        "  print('args=', args)\n",
        "\n",
        "def fun2(x, **kargs) : \n",
        "  print('x=', x)\n",
        "  print('kargs=', kargs)\n",
        "\n",
        "fun1(10,1,2,3)\n",
        "fun2(20, a=1, b=2, c=3)"
      ]
    },
    {
      "cell_type": "code",
      "source": [
        "#집합 관련 메소드\n",
        "s = {1,5,9,3,7,3,0,1}\n",
        "print(s)\n",
        "\n",
        "print(len(s)) #lenght (중복제외 원소의 수)\n",
        "print(max(s))\n",
        "print(min(s))\n",
        "print(sum(s)) #원소들의 합\n",
        "print(sorted(s, reverse=True))  #list로 반환(?)\n",
        "print(all(s)) #모두 True면 True\n",
        "print(any(s)) #하나라도 True가 아닌게 있으면 True\n",
        "\n",
        "print(s)\n",
        "s.add(2)\n",
        "print(s)\n",
        "s.update([11,12,13]) #리스트\n",
        "print(s)\n",
        "s.remove(3) #원소만 #제거하려는 원소가 없으면 오류남\n",
        "print(s)\n",
        "s.discard(0)  #제거하려는 원소가 없어도 오류가 일어나지 않음\n",
        "print(s)"
      ],
      "metadata": {
        "colab": {
          "base_uri": "https://localhost:8080/"
        },
        "id": "-KBg5tkNojCF",
        "outputId": "df99c3f0-be64-4632-9274-96a2c8ed3e2f"
      },
      "execution_count": null,
      "outputs": [
        {
          "output_type": "stream",
          "name": "stdout",
          "text": [
            "{0, 1, 3, 5, 7, 9}\n",
            "6\n",
            "9\n",
            "0\n",
            "25\n",
            "[9, 7, 5, 3, 1, 0]\n",
            "False\n",
            "True\n",
            "{0, 1, 3, 5, 7, 9}\n",
            "{0, 1, 2, 3, 5, 7, 9}\n",
            "{0, 1, 2, 3, 5, 7, 9, 11, 12, 13}\n",
            "{0, 1, 2, 5, 7, 9, 11, 12, 13}\n",
            "{1, 2, 5, 7, 9, 11, 12, 13}\n"
          ]
        }
      ]
    },
    {
      "cell_type": "code",
      "source": [
        "#집합의 연산자 함수\n",
        "A = {1,2,3}\n",
        "B = {3,4,5}\n",
        "\n",
        "print(A | B)\n",
        "print(A & B)\n",
        "print(A - B)\n",
        "print(B - A)\n",
        "print(A ^ B)\n",
        "print(A - B | B - A)"
      ],
      "metadata": {
        "colab": {
          "base_uri": "https://localhost:8080/"
        },
        "id": "LGVXDS-nqQ0j",
        "outputId": "c9e8066a-d02e-4d37-f969-9829d6684af8"
      },
      "execution_count": null,
      "outputs": [
        {
          "output_type": "stream",
          "name": "stdout",
          "text": [
            "{1, 2, 3, 4, 5}\n",
            "{3}\n",
            "{1, 2}\n",
            "{4, 5}\n",
            "{1, 2, 4, 5}\n",
            "{1, 2, 4, 5}\n"
          ]
        }
      ]
    },
    {
      "cell_type": "code",
      "source": [
        "#집합 연산을 이용한 최대공약수\n",
        "def get_divisors(num) : \n",
        "  divisors = set()\n",
        "  for i in range(1,num+1) :\n",
        "    if num % i == 0 :\n",
        "      divisors.add(i)\n",
        "  return divisors\n",
        "\n",
        "x = 48\n",
        "print(x , \"의 약수 : \", get_divisors(x))\n",
        "y = 60 \n",
        "print(y , \"의 약수 : \", get_divisors(y)) \n",
        "\n",
        "A =  get_divisors(x)\n",
        "B =  get_divisors(y)\n",
        "print(x,y,\"의 공약수 : \", A.intersection(B))\n",
        "print(x,y,\"의 최대공약수 : \", max(A.intersection(B)))"
      ],
      "metadata": {
        "colab": {
          "base_uri": "https://localhost:8080/"
        },
        "id": "ZYKR-QXNqt3N",
        "outputId": "02b13126-3627-4db2-bc16-30cd10fcab1e"
      },
      "execution_count": null,
      "outputs": [
        {
          "output_type": "stream",
          "name": "stdout",
          "text": [
            "48 의 약수 :  {1, 2, 3, 4, 6, 8, 12, 16, 48, 24}\n",
            "60 의 약수 :  {1, 2, 3, 4, 5, 6, 10, 12, 15, 20, 60, 30}\n",
            "48 60 의 공약수 :  {1, 2, 3, 4, 6, 12}\n",
            "48 60 의 최대공약수 :  12\n"
          ]
        }
      ]
    },
    {
      "cell_type": "code",
      "source": [
        "#파일 쓰기\n",
        "f = open(\"test.txt\", \"w\")\n",
        "f.write(\"hello world!\")\n",
        "f.write(\"hi\\n\")\n",
        "print(f.write(\"test\"))\n",
        "f.close()"
      ],
      "metadata": {
        "colab": {
          "base_uri": "https://localhost:8080/"
        },
        "id": "motFbAFs3obs",
        "outputId": "ed53ff75-ac30-415f-c91c-48914944f25e"
      },
      "execution_count": 23,
      "outputs": [
        {
          "output_type": "stream",
          "name": "stdout",
          "text": [
            "4\n"
          ]
        }
      ]
    },
    {
      "cell_type": "code",
      "source": [
        "#파일 읽기\n",
        "f = open(\"test.txt\", \"r\")\n",
        "print(f.read())\n",
        "f.close()\n",
        "\n",
        "f = open(\"test.txt\")\n",
        "print(f.read(11))\n",
        "print(f.readline())\n",
        "print(f.readline())\n",
        "f.close()\n",
        "\n",
        "f = open(\"test.txt\")\n",
        "print(f.readlines())\n",
        "f.close()\n",
        "\n"
      ],
      "metadata": {
        "colab": {
          "base_uri": "https://localhost:8080/"
        },
        "id": "Xtrvta_z4opz",
        "outputId": "5c742d0b-264b-4896-a81d-e3ca3e9443d4"
      },
      "execution_count": null,
      "outputs": [
        {
          "output_type": "stream",
          "name": "stdout",
          "text": [
            "hello world!hi\n",
            "test\n",
            "hello world\n",
            "!hi\n",
            "\n",
            "test\n",
            "['hello world!hi\\n', 'test']\n"
          ]
        }
      ]
    },
    {
      "cell_type": "code",
      "source": [
        "#파일 입출력 팁\n",
        "f = open(\"test.txt\", \"r\")\n",
        "for line in f :\n",
        "  print(line)\n",
        "\n",
        "f.seek(0)\n",
        "\n",
        "for line in f.readlines() : \n",
        "  print(line)\n",
        "\n",
        "f.close()"
      ],
      "metadata": {
        "colab": {
          "base_uri": "https://localhost:8080/"
        },
        "id": "7m64nVWj5TnB",
        "outputId": "b2608f36-2441-44be-ed9f-ef1be043ddef"
      },
      "execution_count": null,
      "outputs": [
        {
          "output_type": "stream",
          "name": "stdout",
          "text": [
            "hello world!hi\n",
            "\n",
            "test\n",
            "hello world!hi\n",
            "\n",
            "test\n"
          ]
        }
      ]
    },
    {
      "cell_type": "code",
      "source": [
        "#실습. 파일의 단어 개수(중복 제외)\n",
        "\n",
        "def process(w) :\n",
        "  output = \"\"\n",
        "  for ch in w :\n",
        "    if(ch.isalpha() ) :\n",
        "      output += ch\n",
        "  return output.lower()\n",
        "\n",
        "words = set()\n",
        "\n",
        "fname = input(\"입력 파일 이름 : \")\n",
        "f = open(fname, \"r\")\n",
        "\n",
        "for line in f :\n",
        "  lineWords = line.split()\n",
        "  for word in lineWords :\n",
        "    words.add(process(word))  #단어를 set에 추가\n",
        "\n",
        "print(\"사용된 단어의 개수 = \" , len(words))\n",
        "print(words)\n",
        "\n",
        "\n"
      ],
      "metadata": {
        "colab": {
          "base_uri": "https://localhost:8080/"
        },
        "id": "UYDbDhec52s_",
        "outputId": "94fdd663-2c01-4f95-c6e2-910205750680"
      },
      "execution_count": 32,
      "outputs": [
        {
          "output_type": "stream",
          "name": "stdout",
          "text": [
            "입력 파일 이름 : qwerty.txt\n",
            "사용된 단어의 개수 =  6\n",
            "{'lee', 'in', 'name', 'hello', 'my', 'seungjun'}\n"
          ]
        }
      ]
    },
    {
      "cell_type": "code",
      "source": [
        "#예외 처리 방법\n",
        "while True : \n",
        "  try :\n",
        "    n = input(\"정수 입력 : \")\n",
        "    n = int(n)\n",
        "    break\n",
        "  except ValueError as e :\n",
        "    print(\"정수 입력 오류 \\n\", e)\n",
        "print(\"정수 입력 성공\")"
      ],
      "metadata": {
        "colab": {
          "base_uri": "https://localhost:8080/"
        },
        "id": "EcAWzPQU-wTT",
        "outputId": "1a90d98f-e7aa-4187-d410-f0ed0668e641"
      },
      "execution_count": 34,
      "outputs": [
        {
          "output_type": "stream",
          "name": "stdout",
          "text": [
            "정수 입력 : 1.1\n",
            "정수 입력 오류 \n",
            " invalid literal for int() with base 10: '1.1'\n",
            "정수 입력 : 1\n",
            "정수 입력 성공\n"
          ]
        }
      ]
    },
    {
      "cell_type": "code",
      "source": [
        "#예외 처리 : else \n",
        "try : \n",
        "  age = int(input('나이 입력 : '))\n",
        "except :\n",
        "  print(\"입력 오류\")\n",
        "else :\n",
        "  if age <= 18:\n",
        "    print(\"미성년자\")\n",
        "  else :\n",
        "    print(\"성인\")"
      ],
      "metadata": {
        "colab": {
          "base_uri": "https://localhost:8080/"
        },
        "id": "99HkZrhD_QPq",
        "outputId": "df4cc95e-bb4d-434d-9402-fcfc532191f3"
      },
      "execution_count": 35,
      "outputs": [
        {
          "output_type": "stream",
          "name": "stdout",
          "text": [
            "나이 입력 : 19\n",
            "성인\n"
          ]
        }
      ]
    },
    {
      "cell_type": "code",
      "source": [
        "#여러개 오류 처리\n",
        "try :\n",
        "  a = [1,2]\n",
        "  print(a[3])\n",
        "  1/0\n",
        "except ZeroDivisionError :\n",
        "  print(\"0으로 나누기 오류\")\n",
        "except IndexError :\n",
        "  print(\"인덱싱 오류\")"
      ],
      "metadata": {
        "colab": {
          "base_uri": "https://localhost:8080/"
        },
        "id": "z7pGYAi7_ppC",
        "outputId": "2baff263-befc-4752-925c-cb8c1702c083"
      },
      "execution_count": 36,
      "outputs": [
        {
          "output_type": "stream",
          "name": "stdout",
          "text": [
            "인덱싱 오류\n"
          ]
        }
      ]
    },
    {
      "cell_type": "code",
      "source": [
        "#예외처리 : finally\n",
        "try : \n",
        "  f = open(\"test2.txt\", \"r\")\n",
        "except IOError :\n",
        "  print(\"파일 입출력 오류 발생\")\n",
        "finally :\n",
        "  f.close()\n",
        "  print(\"finally 블록 수행 확인\")"
      ],
      "metadata": {
        "colab": {
          "base_uri": "https://localhost:8080/"
        },
        "id": "h89UAM8t_puB",
        "outputId": "66e860c9-79ea-4f41-fc7c-c29436192504"
      },
      "execution_count": 37,
      "outputs": [
        {
          "output_type": "stream",
          "name": "stdout",
          "text": [
            "파일 입출력 오류 발생\n",
            "finally 블록 수행 확인\n"
          ]
        }
      ]
    }
  ]
}
