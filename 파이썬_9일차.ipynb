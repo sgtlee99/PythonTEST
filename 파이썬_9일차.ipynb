{
  "nbformat": 4,
  "nbformat_minor": 0,
  "metadata": {
    "colab": {
      "provenance": [],
      "collapsed_sections": [],
      "authorship_tag": "ABX9TyO8ewDTbufFlkW3k7nT5VLW",
      "include_colab_link": true
    },
    "kernelspec": {
      "name": "python3",
      "display_name": "Python 3"
    },
    "language_info": {
      "name": "python"
    }
  },
  "cells": [
    {
      "cell_type": "markdown",
      "metadata": {
        "id": "view-in-github",
        "colab_type": "text"
      },
      "source": [
        "<a href=\"https://colab.research.google.com/github/sgtlee99/PythonTEST/blob/main/%ED%8C%8C%EC%9D%B4%EC%8D%AC_9%EC%9D%BC%EC%B0%A8.ipynb\" target=\"_parent\"><img src=\"https://colab.research.google.com/assets/colab-badge.svg\" alt=\"Open In Colab\"/></a>"
      ]
    },
    {
      "cell_type": "code",
      "execution_count": 1,
      "metadata": {
        "colab": {
          "base_uri": "https://localhost:8080/",
          "height": 0
        },
        "id": "Hz2eYD1426z8",
        "outputId": "fbab1f41-f232-458f-b907-eb43502192da"
      },
      "outputs": [
        {
          "output_type": "stream",
          "name": "stdout",
          "text": [
            "[1 2 3]\n",
            "<class 'numpy.ndarray'>\n"
          ]
        }
      ],
      "source": [
        "#넘파이 배열 생성\n",
        "import numpy as np\n",
        "\n",
        "arr = np.array([1,2,3]) #넘파이 배열(리스트)\n",
        "print(arr)              #넘파이 배열 출력 => 구분자 빈칸\n",
        "print(type(arr))        #넘파이 배열 타입 = ndarray"
      ]
    },
    {
      "cell_type": "markdown",
      "source": [
        "shape -> 배열의 형태 : 튜플로 표현"
      ],
      "metadata": {
        "id": "PrjJrfzo4MdG"
      }
    },
    {
      "cell_type": "code",
      "source": [
        "#넘파이 배열의 속성(필드)\n",
        "import numpy as np\n",
        "\n",
        "arr1 = np.array([1,2,3])\n",
        "print(arr1)\n",
        "print(arr1.ndim, arr1.shape, arr1.dtype, arr1.itemsize, arr1.size)\n",
        "\n",
        "arr2 = np.array([[1,2,3],[4,5,6]])\n",
        "print(arr2)\n",
        "print(arr2.ndim, arr2.shape, arr2.dtype, arr2.itemsize, arr2.size)\n",
        "\n",
        "arr3 = np.array([[[1,1,1], [2,2,2]], [[3,3,3],[4,4,4]]])\n",
        "print(arr3)\n",
        "print(arr3.ndim, arr3.shape, arr3.dtype, arr3.itemsize, arr3.size)"
      ],
      "metadata": {
        "colab": {
          "base_uri": "https://localhost:8080/",
          "height": 0
        },
        "id": "yrs3yc3I30hG",
        "outputId": "07d23dce-9f1f-40aa-b808-777d2110435f"
      },
      "execution_count": 2,
      "outputs": [
        {
          "output_type": "stream",
          "name": "stdout",
          "text": [
            "[1 2 3]\n",
            "1 (3,) int64 8 3\n",
            "[[1 2 3]\n",
            " [4 5 6]]\n",
            "2 (2, 3) int64 8 6\n",
            "[[[1 1 1]\n",
            "  [2 2 2]]\n",
            "\n",
            " [[3 3 3]\n",
            "  [4 4 4]]]\n",
            "3 (2, 2, 3) int64 8 12\n"
          ]
        }
      ]
    },
    {
      "cell_type": "code",
      "source": [
        "#넘파이 배열의 연산 : 브로드 캐스팅\n",
        "#리스트와 넘파이 배열 + 연산의 차이\n",
        "import numpy as np\n",
        "\n",
        "arr1 = np.array([1,2,3])\n",
        "arr1 = arr1 + 2\n",
        "print(arr1)               #넘파이 배열 +2 연산\n",
        "\n",
        "arr1 = arr1 ** 2\n",
        "print(arr1)               #넘파이 배열 **2 연산\n",
        "\n",
        "lst1 = [1,2,3]\n",
        "lst2 = [4,5,6]\n",
        "print(lst1 + lst2)        #리스트 + 리스트 ==> 연결\n",
        "\n",
        "arr2 = np.array([1,2,3])\n",
        "arr3 = np.array([4,5,6])\n",
        "print(arr2 + arr3)        #넘파이배열 + 넘파이배열 ==> 원소별 덧셈"
      ],
      "metadata": {
        "colab": {
          "base_uri": "https://localhost:8080/",
          "height": 0
        },
        "id": "9CbT3zAf5nN6",
        "outputId": "20408b14-b5fe-49d5-a02b-83b89992527d"
      },
      "execution_count": 7,
      "outputs": [
        {
          "output_type": "stream",
          "name": "stdout",
          "text": [
            "[3 4 5]\n",
            "[ 9 16 25]\n",
            "[1, 2, 3, 4, 5, 6]\n",
            "[5 7 9]\n"
          ]
        }
      ]
    },
    {
      "cell_type": "code",
      "source": [
        "#넘파이 배열 곱셈 연산자 : * 와 @\n",
        "import numpy as np\n",
        "\n",
        "arr1 = np.array([[1,1],[2,2]])\n",
        "arr2 = np.array([[1,2], [3,4]])\n",
        "\n",
        "arr3 = arr1 * arr2            #넘파이배열 * 연산자 => 원소별 곱셈\n",
        "print(arr3)\n",
        "\n",
        "arr4 = arr1 @ arr2            #넘파이배열 @ 연산자 => 행렬 곱셈\n",
        "print(arr4)"
      ],
      "metadata": {
        "colab": {
          "base_uri": "https://localhost:8080/",
          "height": 0
        },
        "id": "XDcA2X4r6SDU",
        "outputId": "c9c154d4-3dcb-49b3-be2a-36c8131b92f9"
      },
      "execution_count": 10,
      "outputs": [
        {
          "output_type": "stream",
          "name": "stdout",
          "text": [
            "[[1 2]\n",
            " [6 8]]\n",
            "[[ 4  6]\n",
            " [ 8 12]]\n"
          ]
        }
      ]
    },
    {
      "cell_type": "code",
      "source": [
        "#실습. BMI계산\n",
        "import numpy as np\n",
        "\n",
        "h = [1.83, 1.75, 1.17, 1.85, 1.77, 1.73]\n",
        "w = [80, 74, 59, 90, 77, 78]\n",
        "\n",
        "harr = np.array(h)\n",
        "warr = np.array(w)\n",
        "\n",
        "bmi = warr / harr ** 2\n",
        "print(bmi)"
      ],
      "metadata": {
        "colab": {
          "base_uri": "https://localhost:8080/",
          "height": 0
        },
        "id": "TA5WWjLz74M0",
        "outputId": "bdd06681-19c3-4334-e556-f3f74c13be73"
      },
      "execution_count": 11,
      "outputs": [
        {
          "output_type": "stream",
          "name": "stdout",
          "text": [
            "[23.88844098 24.16326531 43.10029951 26.29656684 24.57786715 26.06167931]\n"
          ]
        }
      ]
    },
    {
      "cell_type": "code",
      "source": [
        "#인덱싱과 슬라이싱\n",
        "import numpy as np\n",
        "\n",
        "arr = np.array([1,2,3,4,5])\n",
        "n = arr.size\n",
        "\n",
        "print(arr[0])\n",
        "print(arr[-1], arr[n-1])\n",
        "\n",
        "print(arr[1:4])\n",
        "print(arr[0:-1], arr[0:4])\n",
        "print(arr[:], arr[0:], arr[:n], arr[0:n])"
      ],
      "metadata": {
        "colab": {
          "base_uri": "https://localhost:8080/",
          "height": 0
        },
        "id": "-T04f4sj8Zzv",
        "outputId": "ae862c58-312d-4366-8ac2-c72d5060c167"
      },
      "execution_count": 12,
      "outputs": [
        {
          "output_type": "stream",
          "name": "stdout",
          "text": [
            "1\n",
            "5 5\n",
            "[2 3 4]\n",
            "[1 2 3 4] [1 2 3 4]\n",
            "[1 2 3 4 5] [1 2 3 4 5] [1 2 3 4 5] [1 2 3 4 5]\n"
          ]
        }
      ]
    },
    {
      "cell_type": "code",
      "source": [
        "#2차원 배열 인덱싱, 슬라이싱\n",
        "import numpy as np\n",
        "\n",
        "arr = np.array([[1,2,3],[4,5,6]])\n",
        "print(arr[0])\n",
        "print(arr[0][1], arr[0,1])\n",
        "print(arr[-1][-1], arr[-1,-1])\n",
        "\n",
        "arr[0,0] = 7.7   #arr는 정수형태로 생성\n",
        "print(arr)        #실수 입력시 타입변환\n",
        "\n",
        "print(arr[0, :])  #1차원\n",
        "print(arr[0:1, :])#2차원\n",
        "print(arr[0, ::2])#step => 2 "
      ],
      "metadata": {
        "colab": {
          "base_uri": "https://localhost:8080/",
          "height": 0
        },
        "id": "ETshocUk83Qf",
        "outputId": "11a36a27-7cdb-411c-a535-a49b9442741d"
      },
      "execution_count": 16,
      "outputs": [
        {
          "output_type": "stream",
          "name": "stdout",
          "text": [
            "[1 2 3]\n",
            "2 2\n",
            "6 6\n",
            "[[7 2 3]\n",
            " [4 5 6]]\n",
            "[7 2 3]\n",
            "[[7 2 3]]\n",
            "[7 3]\n"
          ]
        }
      ]
    },
    {
      "cell_type": "code",
      "source": [
        "#2차원 배열 논리 인덱싱\n",
        "import numpy as np\n",
        "\n",
        "arr = np.array([[1,2,3],[4,5,6]])\n",
        "\n",
        "larr = arr[:, 0] % 2 == 0\n",
        "print(arr[:,0], larr)\n",
        "\n",
        "print(arr[larr])"
      ],
      "metadata": {
        "colab": {
          "base_uri": "https://localhost:8080/",
          "height": 0
        },
        "id": "z2X3fgvP-tji",
        "outputId": "061e503f-bd2a-4ee6-e957-6a5a81920a6a"
      },
      "execution_count": 18,
      "outputs": [
        {
          "output_type": "stream",
          "name": "stdout",
          "text": [
            "[1 4] [False  True]\n",
            "[[4 5 6]]\n"
          ]
        }
      ]
    },
    {
      "cell_type": "code",
      "source": [
        "#실습. 2차원 배열에서 조건 만족 행 추출\n",
        "import numpy as np\n",
        "lst = [\n",
        "    [177, 77.1],\n",
        "    [183, 80.1],\n",
        "    [185, 78.3],\n",
        "    [173, 80.3]\n",
        "]\n",
        "arr = np.array(lst)\n",
        "print(\"몸무게가 80 이상\")\n",
        "print(arr[  arr[:, 1] >= 80.0])\n",
        "\n",
        "print(\"키가 180이상\")\n",
        "print(arr[arr[:,0] >= 180.0])"
      ],
      "metadata": {
        "colab": {
          "base_uri": "https://localhost:8080/",
          "height": 0
        },
        "id": "nIMjuhKQ_IkF",
        "outputId": "c189cbbe-b0ff-441e-da2f-0fdf2b6a4336"
      },
      "execution_count": 19,
      "outputs": [
        {
          "output_type": "stream",
          "name": "stdout",
          "text": [
            "몸무게가 80 이상\n",
            "[[183.   80.1]\n",
            " [173.   80.3]]\n",
            "키가 180이상\n",
            "[[183.   80.1]\n",
            " [185.   78.3]]\n"
          ]
        }
      ]
    },
    {
      "cell_type": "code",
      "source": [
        "#넘파이 배열생성/초기화\n",
        "import numpy as np\n",
        "print(np.zeros((3,4)))    #3행, 4열 배열생성 -> 0 초기화\n",
        "print(np.ones((3,4)))     #3행, 4열 배열생성 -> 1 초기화\n",
        "print(np.eye(3))          #3행3열 단위 행렬 생성, 대각 원소 1, 나머지 0 초기화\n",
        "\n",
        "print(\"==================\")\n",
        "print(np.arange(10), np.array(range(10)))         #크기 10 배열 0~9 초기화\n",
        "print(np.arange(1,10), np.array(range(1,10)))     #크기 9 배열 1~9 초기화\n",
        "print(np.arange(0,10,2), np.array(range(0,10,2))) #크기 5 배열 0~8 짝수 초기화\n",
        "print(\"==================\")\n",
        "print(np.linspace(1,10,10))   \n",
        "#np.linspace(start, stop, num = 50)\n",
        "#크기가 num인 실수배열, start~stop까지 균등한 간격의 num개 실수 초기화\n",
        "print(np.logspace(0,1,10))\n",
        "#np.logspace(startm stop, num=50)\n",
        "#크기가 num인 실수배열, 10^start ~ 10^stop까지 로그스케일로 균등항 간격의 num개 실수 초기화"
      ],
      "metadata": {
        "colab": {
          "base_uri": "https://localhost:8080/",
          "height": 0
        },
        "id": "VL3c3FiWJ_v1",
        "outputId": "8f85be77-48db-48fa-f945-cfda2a5cba05"
      },
      "execution_count": 27,
      "outputs": [
        {
          "output_type": "stream",
          "name": "stdout",
          "text": [
            "[[0. 0. 0. 0.]\n",
            " [0. 0. 0. 0.]\n",
            " [0. 0. 0. 0.]]\n",
            "[[1. 1. 1. 1.]\n",
            " [1. 1. 1. 1.]\n",
            " [1. 1. 1. 1.]]\n",
            "[[1. 0. 0.]\n",
            " [0. 1. 0.]\n",
            " [0. 0. 1.]]\n",
            "==================\n",
            "[0 1 2 3 4 5 6 7 8 9] [0 1 2 3 4 5 6 7 8 9]\n",
            "[1 2 3 4 5 6 7 8 9] [1 2 3 4 5 6 7 8 9]\n",
            "[0 2 4 6 8] [0 2 4 6 8]\n",
            "==================\n",
            "[ 1.  2.  3.  4.  5.  6.  7.  8.  9. 10.]\n",
            "[ 1.          1.29154967  1.66810054  2.15443469  2.7825594   3.59381366\n",
            "  4.64158883  5.9948425   7.74263683 10.        ]\n"
          ]
        }
      ]
    },
    {
      "cell_type": "code",
      "source": [
        "#넘파이 배열 형태 변경\n",
        "import numpy as np\n",
        "arr1 = np.arange(8)   #크기가 8인 1차원 배열생성 -> 0~7 초기화\n",
        "print(arr1, \"\\n\")\n",
        "\n",
        "arr2 = arr1.reshape(2,4)  #arr1 -> 2행 4열 2차원 배열로 변경\n",
        "print(arr2, \"\\n\")\n",
        "\n",
        "print(arr2.flatten(), arr2.reshape(-1)) #arr2 -> 1차원 배열로 변경\n"
      ],
      "metadata": {
        "colab": {
          "base_uri": "https://localhost:8080/",
          "height": 0
        },
        "id": "_ECqmfeIOCSR",
        "outputId": "5a1d5349-8521-4069-befb-ca9be24b27b3"
      },
      "execution_count": 28,
      "outputs": [
        {
          "output_type": "stream",
          "name": "stdout",
          "text": [
            "[0 1 2 3 4 5 6 7] \n",
            "\n",
            "[[0 1 2 3]\n",
            " [4 5 6 7]] \n",
            "\n",
            "[0 1 2 3 4 5 6 7] [0 1 2 3 4 5 6 7]\n"
          ]
        }
      ]
    },
    {
      "cell_type": "code",
      "source": [
        "#난수배열 생성\n",
        "import numpy as np\n",
        "np.random.seed(1)   #난수생성 초기값 설정\n",
        "arr1 = np.random.rand(10)   #크기가 10인 1차원 난수배열 생성 0~1 사이 난수\n",
        "print(10*arr1 + 10)   #브로드캐스팅 연산으로 10~20 사이 난수생성\n",
        "\n",
        "arr2 = np.random.randint(1,11,size=(3,5))   #3행5열 난수, 1~10 사이 난수\n",
        "print(arr2)\n",
        "\n",
        "print(np.random.randint(1,6,size=10))   #크기10 1차원 난수배열 1~5사이 난수"
      ],
      "metadata": {
        "colab": {
          "base_uri": "https://localhost:8080/",
          "height": 0
        },
        "id": "QySbvHwMOmua",
        "outputId": "058ac408-100b-4756-cd22-fc38b149bf5f"
      },
      "execution_count": 31,
      "outputs": [
        {
          "output_type": "stream",
          "name": "stdout",
          "text": [
            "[14.17022005 17.20324493 10.00114375 13.02332573 11.46755891 10.92338595\n",
            " 11.86260211 13.45560727 13.96767474 15.38816734]\n",
            "[[ 6  3  5  3  5]\n",
            " [ 8  8 10  2  8]\n",
            " [ 1  7 10 10  8]]\n",
            "[2 2 1 5 2 1 1 4 3 2]\n"
          ]
        }
      ]
    },
    {
      "cell_type": "code",
      "source": [
        "#정규분포 난수생성\n",
        "import numpy as numpy\n",
        "\n",
        "np.random.seed(1)\n",
        "print(np.random.normal(0,1,5))  #평균0, 표준편차1 정규분포 난수 배열(크기 5)\n",
        "\n",
        "np.random.seed(1)\n",
        "print(np.random.randn(5))   #np.random.normal(0,1,5와 동일)\n",
        "print()\n",
        "\n",
        "np.random.seed(1)\n",
        "print(np.random.normal(10,2,(2,5)))   #2행 5열 난수배열, 평균10, 표준편차2 난수\n",
        "print()\n",
        "\n",
        "np.random.seed(1)   \n",
        "print(np.random.randn(2,5) * 2 + 10)"
      ],
      "metadata": {
        "colab": {
          "base_uri": "https://localhost:8080/",
          "height": 0
        },
        "id": "_uFJtdWHPVco",
        "outputId": "438938e8-f986-44d7-ba32-cc003349fa1b"
      },
      "execution_count": 33,
      "outputs": [
        {
          "output_type": "stream",
          "name": "stdout",
          "text": [
            "[ 1.62434536 -0.61175641 -0.52817175 -1.07296862  0.86540763]\n",
            "[ 1.62434536 -0.61175641 -0.52817175 -1.07296862  0.86540763]\n",
            "\n",
            "[[13.24869073  8.77648717  8.9436565   7.85406276 11.73081526]\n",
            " [ 5.39692261 13.48962353  8.4775862  10.63807819  9.50125925]]\n",
            "\n",
            "[[13.24869073  8.77648717  8.9436565   7.85406276 11.73081526]\n",
            " [ 5.39692261 13.48962353  8.4775862  10.63807819  9.50125925]]\n"
          ]
        }
      ]
    },
    {
      "cell_type": "code",
      "source": [
        "#난수관련 함수\n",
        "import numpy as np\n",
        "\n",
        "x = np.arange(1,11)\n",
        "np.random.shuffle(x)    #원본배열 순서 랜덤 생성\n",
        "print(x)\n",
        "\n",
        "y = np.arange(1,11)\n",
        "print(np.random.permutation(y))   #순서랜덤 변경 배열반환, 원본변경X\n",
        "print(y)\n",
        "\n",
        "fruits = [\"apple\", \"banana\", \"cherries\", \"durian\", \"grapes\", \"lemon\", \"mango\"]\n",
        "pb = [0.1,0,0.2,0.5,0.1,0.05,0.05]    #표본 추출 확률 리스트\n",
        "print(np.random.choice(fruits, 3, replace=False, p = pb))   #중복없이 랜덤추출"
      ],
      "metadata": {
        "colab": {
          "base_uri": "https://localhost:8080/",
          "height": 0
        },
        "id": "pNT4oEhRQGM8",
        "outputId": "9b68c4d6-872d-46ff-8a1e-fb6a95732e8f"
      },
      "execution_count": 34,
      "outputs": [
        {
          "output_type": "stream",
          "name": "stdout",
          "text": [
            "[ 9  4  6 10  1  7  2  8  5  3]\n",
            "[ 3  5  4  1  7  2  6  9  8 10]\n",
            "[ 1  2  3  4  5  6  7  8  9 10]\n",
            "['apple' 'cherries' 'lemon']\n"
          ]
        }
      ]
    },
    {
      "cell_type": "code",
      "source": [
        "#넘파이 배열 평균 계산\n",
        "import numpy as numpy\n",
        "arr = np.array([[99,93,60],[98,82,93],[93,65,81],[78,82,81]])\n",
        "print(arr, \"\\n\")\n",
        "\n",
        "print(np.mean(arr, axis=0))\n",
        "print(arr.mean(axis=0), '\\n')\n",
        "\n",
        "print(np.mean(arr, axis=1))\n",
        "print(arr.mean(axis=1))"
      ],
      "metadata": {
        "colab": {
          "base_uri": "https://localhost:8080/",
          "height": 0
        },
        "id": "U5_YEvQxQ0dr",
        "outputId": "e459b434-b848-4103-f8c1-adca5997e836"
      },
      "execution_count": 36,
      "outputs": [
        {
          "output_type": "stream",
          "name": "stdout",
          "text": [
            "[[99 93 60]\n",
            " [98 82 93]\n",
            " [93 65 81]\n",
            " [78 82 81]] \n",
            "\n",
            "[92.   80.5  78.75]\n",
            "[92.   80.5  78.75] \n",
            "\n",
            "[84.         91.         79.66666667 80.33333333]\n",
            "[84.         91.         79.66666667 80.33333333]\n"
          ]
        }
      ]
    }
  ]
}